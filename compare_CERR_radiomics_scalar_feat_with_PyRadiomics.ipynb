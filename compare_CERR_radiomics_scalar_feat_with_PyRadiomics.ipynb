{
  "nbformat": 4,
  "nbformat_minor": 0,
  "metadata": {
    "colab": {
      "provenance": [],
      "toc_visible": true
    },
    "kernelspec": {
      "name": "python3",
      "display_name": "Python 3"
    },
    "language_info": {
      "name": "python"
    }
  },
  "cells": [
   {
        "cell_type": "markdown",
        "source": [
          "<a href=\"https://colab.research.google.com/github/stratis-forge/radiomics-workflows/blob/main/compare_CERR_radiomics_scalar_feat_with_PyRadiomics.ipynb\" target=\"_parent\"><img src=\"https://colab.research.google.com/assets/colab-badge.svg\" alt=\"Open In Colab\"/></a>"
        ],
        "metadata": {
          "id": "18HNIZbJtzV0"
        }
    },
    {
      "cell_type": "markdown",
      "source": [
        "## Download latest Octave compile\n"
      ],
      "metadata": {
        "id": "_-M7RjLVIp1J"
      }
    },
    {
      "cell_type": "code",
      "execution_count": 1,
      "metadata": {
        "id": "_nt8TpnMISfD"
      },
      "outputs": [],
      "source": [
        "%%capture\n",
        "! apt-get update\n",
        "! apt-get install libgraphicsmagick++1-dev libsuitesparse-dev libqrupdate1 \\\n",
        "libfftw3-3 gnuplot zsh openjdk-8-jdk\n",
        "! cd /usr/lib/x86_64-linux-gnu/ && ln -s libhdf5_serial.so.103 libhdf5_serial.so.100 \\\n",
        "&& ln -s libreadline.so.8 libreadline.so.7\n",
        "!apt-get install gfortran-7"
      ]
    },
    {
      "cell_type": "code",
      "source": [
        "#Download latest compiled octave package \n",
        "def get_octave(root_path):\n",
        "  os.chdir(root_path)\n",
        "  with urllib.request.urlopen(\"https://api.github.com/repos/cerr/octave-colab/releases/latest\") as url:\n",
        "      data = json.loads(url.read().decode())\n",
        "  fname = data['assets'][0]['name']\n",
        "  requrl = data['assets'][0]['browser_download_url']\n",
        "  urllib.request.urlretrieve(requrl, fname)\n",
        "  # Unzip, identify octave folder name\n",
        "  !tar xf {fname}\n",
        "  top_folder = !tar tf {fname} | head -1\n",
        "  octave_folder = top_folder[0][:-1]\n",
        "  octave_path = os.path.join(root_path,octave_folder)\n",
        "  return octave_path"
      ],
      "metadata": {
        "id": "q2jB_2GzIef1"
      },
      "execution_count": 2,
      "outputs": []
    },
    {
      "cell_type": "code",
      "source": [
        "# Set path to Octave exectuable\n",
        "import os, urllib.request, json\n",
        "octave_path = get_octave('/content')\n",
        "os.environ['OCTAVE_EXECUTABLE'] = octave_path + '/bin/octave-cli'  #Replace with OCTAVE_EXECUTABLE path\n",
        "os.environ['PATH'] = octave_path + '/bin:' + os.environ['PATH']    #Replace with Octave path"
      ],
      "metadata": {
        "id": "0s78GSJvIf7u"
      },
      "execution_count": 3,
      "outputs": []
    },
    {
      "cell_type": "code",
      "source": [
        "%%capture\n",
        "! pip3 install octave_kernel\n",
        "! pip3 install oct2py"
      ],
      "metadata": {
        "id": "RV8_9WGMIige"
      },
      "execution_count": 4,
      "outputs": []
    },
    {
      "cell_type": "code",
      "source": [
        "!pip install pyradiomics"
      ],
      "metadata": {
        "id": "VWI3gORNI63a"
      },
      "execution_count": 5,
      "outputs": []
    },
    {
      "cell_type": "markdown",
      "source": [
        "## Download CERR"
      ],
      "metadata": {
        "id": "XbekXjszImk2"
      }
    },
    {
      "cell_type": "code",
      "source": [
        "%%capture\n",
        "!git clone --single-branch --branch octave_dev https://www.github.com/cerr/CERR.git  \n",
        "!cd /content/CERR && git checkout 1c0b1af23b3cfbd9183f46022559b5abdbc3d93d\n",
        "!cd /content"
      ],
      "metadata": {
        "id": "UAnkk3czIlr-"
      },
      "execution_count": 6,
      "outputs": []
    },
    {
      "cell_type": "markdown",
      "source": [],
      "metadata": {
        "id": "AyQrDDxyZzU8"
      }
    },
    {
      "cell_type": "code",
      "source": [
        "%load_ext oct2py.ipython\n",
        "from oct2py import octave"
      ],
      "metadata": {
        "id": "yMt-AedFZtoA"
      },
      "execution_count": 7,
      "outputs": []
    },
    {
      "cell_type": "code",
      "source": [
        "%%capture\n",
        "%%octave\n",
        "pkg load statistics\n",
        "pkg load image\n",
        "pkg load io"
      ],
      "metadata": {
        "id": "FUZkkmeJZyrc"
      },
      "execution_count": 8,
      "outputs": []
    },
    {
      "cell_type": "code",
      "source": [
        "%%capture\n",
        "%%octave\n",
        "#Add CERR to path\n",
        "curr_dir = pwd()\n",
        "cd('/content/CERR')\n",
        "addToPath2(pwd)\n",
        "cd(curr_dir)"
      ],
      "metadata": {
        "id": "Bz6sr2DpZ1Do"
      },
      "execution_count": 9,
      "outputs": []
    },
    {
      "cell_type": "markdown",
      "source": [
        "## IBSI-1 feature calculations using CERR and PyRadiomics"
      ],
      "metadata": {
        "id": "phSLktmfIwGe"
      }
    },
    {
      "cell_type": "markdown",
      "source": [
        "### Compute first-order and texture features using CERR"
      ],
      "metadata": {
        "id": "8Lgz5Ca29D2O"
      }
    },
    {
      "cell_type": "code",
      "source": [
        "%%octave\n",
        "\n",
        "#Compute features using CERR\n",
        "\n",
        "#Load sample data\n",
        "fpath = fullfile(fileparts(fileparts(getCERRPath)),...\n",
        "    'Unit_Testing/data_for_cerr_tests/IBSI1_CT_phantom/IBSILungCancerCTImage.mat.bz2');\n",
        "planC = loadPlanC(fpath,tempdir);\n",
        "planC = updatePlanFields(planC);\n",
        "planC = quality_assure_planC(fpath,planC);\n",
        "indexS = planC{end};\n",
        "strName = 'GTV-1';\n",
        "\n",
        "pyParamFilePath = fullfile(fileparts(fileparts(getCERRPath)),...\n",
        "            'Unit_Testing/settings_for_comparisons/pyOrigNoInterp.yaml');\n",
        "cerrParamFilePath = fullfile(fileparts(fileparts(getCERRPath)),...\n",
        "            'Unit_Testing/settings_for_comparisons/cerrOrigNoInterp.json');\n",
        "paramS = getRadiomicsParamTemplate(cerrParamFilePath);\n",
        "\n",
        "strC = {planC{indexS.structures}.structureName};\n",
        "structNum = getMatchingIndex(paramS.structuresC{1},strC,'exact');\n",
        "scanNum = getStructureAssociatedScan(structNum,planC);\n",
        "cerrFeatS = calcGlobalRadiomicsFeatures...\n",
        "    (scanNum, structNum, paramS, planC);\n",
        "\n",
        "filtName = fieldnames(cerrFeatS);\n",
        "filtName = filtName{1};"
      ],
      "metadata": {
        "colab": {
          "base_uri": "https://localhost:8080/",
          "height": 139
        },
        "id": "mGtwgX7D4bpC",
        "outputId": "895fabc0-09df-4c06-be4c-054018ba4b19"
      },
      "execution_count": 10,
      "outputs": [
        {
          "output_type": "display_data",
          "data": {
            "text/plain": [
              "CERR>>  Decompressing IBSILungCancerCTImage.mat.bz2..."
            ]
          },
          "metadata": {}
        },
        {
          "output_type": "display_data",
          "data": {
            "text/plain": []
          },
          "metadata": {}
        },
        {
          "output_type": "display_data",
          "data": {
            "text/plain": [
              "ans = 0"
            ]
          },
          "metadata": {}
        },
        {
          "output_type": "display_data",
          "data": {
            "text/plain": [
              "CERR>>  Loading IBSILungCancerCTImage.mat.bz2..."
            ]
          },
          "metadata": {}
        },
        {
          "output_type": "display_data",
          "data": {
            "text/plain": [
              "CERR>>  Loaded IBSILungCancerCTImage.mat.bz2..."
            ]
          },
          "metadata": {}
        },
        {
          "output_type": "display_data",
          "data": {
            "text/plain": [
              "Elapsed time is 1.28746e-05 seconds."
            ]
          },
          "metadata": {}
        },
        {
          "output_type": "display_data",
          "data": {
            "text/plain": [
              "Elapsed time is 0.618907 seconds."
            ]
          },
          "metadata": {}
        },
        {
          "output_type": "display_data",
          "data": {
            "text/plain": [
              "Elapsed time is 0.988859 seconds."
            ]
          },
          "metadata": {}
        }
      ]
    },
    {
      "cell_type": "markdown",
      "source": [
        "### Compute features using PyRadiomics"
      ],
      "metadata": {
        "id": "x52neeJr9VvH"
      }
    },
    {
      "cell_type": "markdown",
      "source": [
        "#### Export scan & mask to NRRD for input to Pyradiomics"
      ],
      "metadata": {
        "id": "7mQM7MMu4ocG"
      }
    },
    {
      "cell_type": "code",
      "source": [
        "%%octave\n",
        "function [scanFilename, maskFilename] = exportToNRRD(strName,scanNum,planC,outDir)\n",
        "\n",
        "  # Extract scan & mask\n",
        "  indexS = planC{end};\n",
        "  strC = {planC{indexS.structures}.structureName};\n",
        "  if isnumeric(strName)\n",
        "    strNum = strName;\n",
        "  else\n",
        "    strNum = getMatchingIndex(strName,strC,'exact');    \n",
        "  end\n",
        "  mask3M = getStrMask(strNum,planC);\n",
        "\n",
        "  if isempty(scanNum)\n",
        "    scanNum = getStructureAssociatedScan(strNum,planC);\n",
        "  end\n",
        "  scan3M = double(getScanArray(scanNum,planC));\n",
        "  CToffset = planC{indexS.scan}(scanNum).scanInfo(1).CTOffset;\n",
        "  scan3M = scan3M - CToffset;\n",
        "\n",
        "  # Get voxel size\n",
        "  scanS = planC{indexS.scan}(scanNum);\n",
        "  [xV,yV,zV] = getScanXYZVals(scanS);\n",
        "  dx = median(abs(diff(xV)));\n",
        "  dy = median(abs(diff(yV)));\n",
        "  dz = median(diff(zV));\n",
        "  voxelSizeV = [dx, dy, dz]*10; %convert to mm\n",
        "\n",
        "  # Export to NRRD\n",
        "  originV = [0,0,0];\n",
        "  encoding = 'raw';\n",
        "  mask3M = uint16(mask3M);\n",
        "  mask3M = permute(mask3M, [2 1 3]);\n",
        "  scan3M = permute(scan3M, [2 1 3]);\n",
        "  scanFilename = fullfile(outDir,'scan.nrrd');\n",
        "  scanRes = nrrdWriter(scanFilename, scan3M, voxelSizeV, originV, encoding);\n",
        "  maskFilename = fullfile(outDir,'mask.nrrd');\n",
        "  maskRes = nrrdWriter(maskFilename, mask3M, voxelSizeV, originV, encoding);\n",
        "\n",
        "end"
      ],
      "metadata": {
        "id": "06IGV6UT3pCe"
      },
      "execution_count": 11,
      "outputs": []
    },
    {
      "cell_type": "code",
      "source": [
        "%%octave\n",
        "outDir = '/content/tmpdir';\n",
        "mkdir(outDir)\n",
        "[scanFilename, maskFilename] = exportToNRRD(strName,[],planC,outDir);"
      ],
      "metadata": {
        "colab": {
          "base_uri": "https://localhost:8080/",
          "height": 34
        },
        "id": "7ua3DvEXTjsv",
        "outputId": "6728ca6a-35d5-4c8f-f00b-7e89f92cb42a"
      },
      "execution_count": 12,
      "outputs": []
    },
    {
      "cell_type": "markdown",
      "source": [
        "#### Extract features "
      ],
      "metadata": {
        "id": "vnCRE8vZ9O-2"
      }
    },
    {
      "cell_type": "code",
      "source": [
        "%octave_pull scanFilename maskFilename pyParamFilePath outDir"
      ],
      "metadata": {
        "id": "IR8dqhmL5P19"
      },
      "execution_count": 13,
      "outputs": []
    },
    {
      "cell_type": "code",
      "source": [
        "import sys\n",
        "sys.path.insert(0, '/content/CERR/Unit_Testing/tests_for_cerr/')\n",
        "from pyFeatureExtraction import extract\n",
        "pyFeatDict = extract(scanFilename, maskFilename,pyParamFilePath,outDir);"
      ],
      "metadata": {
        "colab": {
          "base_uri": "https://localhost:8080/"
        },
        "id": "SX_dGvN85f4I",
        "outputId": "91c6f138-cd7d-4626-d73f-a3c2289a2f47"
      },
      "execution_count": 14,
      "outputs": [
        {
          "output_type": "stream",
          "name": "stderr",
          "text": [
            "INFO:radiomics.featureextractor:Loading parameter file /content/CERR/Unit_Testing/settings_for_comparisons/pyOrigNoInterp.yaml\n",
            "INFO:radiomics.featureextractor:Loading image and mask\n",
            "INFO:radiomics.featureextractor:Calculating features with label: 1\n",
            "INFO:radiomics.featureextractor:Loading image and mask\n"
          ]
        },
        {
          "output_type": "stream",
          "name": "stdout",
          "text": [
            "Reading image and mask...\n",
            "Initializing feature extractor...\n",
            "Done.\n"
          ]
        },
        {
          "output_type": "stream",
          "name": "stderr",
          "text": [
            "INFO:radiomics.featureextractor:Adding image type \"Original\" with custom settings: {}\n",
            "INFO:radiomics.featureextractor:Calculating features for original image\n",
            "INFO:radiomics.featureextractor:Computing firstorder\n",
            "INFO:radiomics.featureextractor:Computing glcm\n",
            "GLCM is symmetrical, therefore Sum Average = 2 * Joint Average, only 1 needs to be calculated\n",
            "WARNING:radiomics.glcm:GLCM is symmetrical, therefore Sum Average = 2 * Joint Average, only 1 needs to be calculated\n",
            "INFO:radiomics.featureextractor:Computing glrlm\n",
            "INFO:radiomics.featureextractor:Computing glszm\n",
            "INFO:radiomics.featureextractor:Computing gldm\n"
          ]
        }
      ]
    },
    {
      "cell_type": "markdown",
      "source": [
        "## Compare results"
      ],
      "metadata": {
        "id": "HGZAkUZ09cbb"
      }
    },
    {
      "cell_type": "markdown",
      "source": [
        "### Map PyRadiomics output to corresponding CERR features"
      ],
      "metadata": {
        "id": "nJNKa1xM8taL"
      }
    },
    {
      "cell_type": "code",
      "source": [
        "%octave_push pyFeatDict"
      ],
      "metadata": {
        "id": "KzOsmGjp8VrF"
      },
      "execution_count": 15,
      "outputs": []
    },
    {
      "cell_type": "code",
      "source": [
        "%%octave\n",
        "featS = struct(pyFeatDict);\n",
        "fieldsC = fieldnames(featS);\n",
        "for n=1:length(fieldsC)\n",
        "   if isa(featS.(fieldsC{n}),'py.numpy.ndarray')\n",
        "       featS.(fieldsC{n}) = double(featS.(fieldsC{n}));\n",
        "   end\n",
        "end\n",
        "\n",
        "\n",
        "#Map to cerr fieldnames\n",
        "pyFeatS = struct();\n",
        "\n",
        "#First-order\n",
        "pyFirstOrdFeatS = getPyradFeatDict(featS,{['original','_firstorder']});\n",
        "pyFirstOrdFeatS = mapPyradFieldnames(pyFirstOrdFeatS,'original','firstorder');\n",
        "pyFeatS.(filtName).firstOrderS = pyFirstOrdFeatS;\n",
        "\n",
        "#GLCM\n",
        "pyGlcmFeatS = getPyradFeatDict(featS,{['original','_glcm']});\n",
        "pyGlcmFeatS = mapPyradFieldnames(pyGlcmFeatS,'original','glcm');\n",
        "pyFeatS.(filtName).glcmFeatS = pyGlcmFeatS;\n",
        "\n",
        "#GLRLM\n",
        "pyGlrlmFeatS = getPyradFeatDict(featS,{['original','_glrlm']});\n",
        "pyGlrlmFeatS = mapPyradFieldnames(pyGlrlmFeatS,'original','glrlm');\n",
        "pyFeatS.(filtName).rlmFeatS = pyGlrlmFeatS;\n",
        "\n",
        "#NGLDM\n",
        "pyGldmFeatS = getPyradFeatDict(featS,{['original','_gldm']});\n",
        "pyGldmFeatS = mapPyradFieldnames(pyGldmFeatS,'original','ngldm');\n",
        "pyFeatS.(filtName).ngldmFeatS = pyGldmFeatS;\n",
        "\n",
        "#GLSZM\n",
        "pyGlszmFeatS = getPyradFeatDict(featS,{['original','_glszm']});\n",
        "pyGlszmFeatS = mapPyradFieldnames(pyGlszmFeatS,'original','glszm');\n",
        "pyFeatS.(filtName).szmFeatS = pyGlszmFeatS;\n"
      ],
      "metadata": {
        "id": "pkFYEWIv8ZeU"
      },
      "execution_count": 16,
      "outputs": []
    },
    {
      "cell_type": "markdown",
      "source": [
        "#### E.g. Compare first-order statistics"
      ],
      "metadata": {
        "id": "ny3ExjlVDwa6"
      }
    },
    {
      "cell_type": "code",
      "source": [
        "%%octave\n",
        "\n",
        "# First-order intensity features\n",
        "firstOrdFeat1C = fieldnames(cerrFeatS.Original.firstOrderS);\n",
        "firstOrdFeat2C = fieldnames(pyFeatS.Original.firstOrderS);\n",
        "\n",
        "allFeatC = unique([firstOrdFeat1C;firstOrdFeat2C]);\n",
        "keepIdxV = ismember(allFeatC,firstOrdFeat1C) & ismember(allFeatC,firstOrdFeat2C);\n",
        "selFeatC = allFeatC(keepIdxV);\n",
        "\n",
        "for n = 1:length(selFeatC)\n",
        "   cerrVal = cerrFeatS.Original.firstOrderS.(selFeatC{n});\n",
        "   pyVal = pyFeatS.Original.firstOrderS.(selFeatC{n});\n",
        "   pctDiff =(cerrVal-pyVal)*100/pyVal;\n",
        "   pctDiffS.FirstOrder.(selFeatC{n}) = pctDiff;\n",
        "end\n",
        "\n",
        "\n",
        "pctDiffS.FirstOrder"
      ],
      "metadata": {
        "colab": {
          "base_uri": "https://localhost:8080/",
          "height": 347
        },
        "id": "GHX38orH-a7Q",
        "outputId": "039769b1-2fcf-46a7-8428-c6254c603e28"
      },
      "execution_count": 17,
      "outputs": [
        {
          "output_type": "display_data",
          "data": {
            "text/plain": [
              "ans ="
            ]
          },
          "metadata": {}
        },
        {
          "output_type": "display_data",
          "data": {
            "text/plain": []
          },
          "metadata": {}
        },
        {
          "output_type": "display_data",
          "data": {
            "text/plain": [
              "  scalar structure containing the fields:"
            ]
          },
          "metadata": {}
        },
        {
          "output_type": "display_data",
          "data": {
            "text/plain": []
          },
          "metadata": {}
        },
        {
          "output_type": "display_data",
          "data": {
            "text/plain": [
              "    min = 0"
            ]
          },
          "metadata": {}
        },
        {
          "output_type": "display_data",
          "data": {
            "text/plain": [
              "    max = 0"
            ]
          },
          "metadata": {}
        },
        {
          "output_type": "display_data",
          "data": {
            "text/plain": [
              "    mean = 0"
            ]
          },
          "metadata": {}
        },
        {
          "output_type": "display_data",
          "data": {
            "text/plain": [
              "    range = 0"
            ]
          },
          "metadata": {}
        },
        {
          "output_type": "display_data",
          "data": {
            "text/plain": [
              "    P10 = 0"
            ]
          },
          "metadata": {}
        },
        {
          "output_type": "display_data",
          "data": {
            "text/plain": [
              "    P90 = 0"
            ]
          },
          "metadata": {}
        },
        {
          "output_type": "display_data",
          "data": {
            "text/plain": [
              "    energy = 0"
            ]
          },
          "metadata": {}
        },
        {
          "output_type": "display_data",
          "data": {
            "text/plain": [
              "    entropy = -1.7290e-14"
            ]
          },
          "metadata": {}
        },
        {
          "output_type": "display_data",
          "data": {
            "text/plain": [
              "    interQuartileRange = 0"
            ]
          },
          "metadata": {}
        },
        {
          "output_type": "display_data",
          "data": {
            "text/plain": [
              "    kurtosis = -45.151"
            ]
          },
          "metadata": {}
        },
        {
          "output_type": "display_data",
          "data": {
            "text/plain": [
              "    meanAbsDev = -1.8789e-10"
            ]
          },
          "metadata": {}
        },
        {
          "output_type": "display_data",
          "data": {
            "text/plain": [
              "    median = 0"
            ]
          },
          "metadata": {}
        },
        {
          "output_type": "display_data",
          "data": {
            "text/plain": [
              "    rms = 0"
            ]
          },
          "metadata": {}
        },
        {
          "output_type": "display_data",
          "data": {
            "text/plain": [
              "    robustMeanAbsDev = -1.8518e-10"
            ]
          },
          "metadata": {}
        },
        {
          "output_type": "display_data",
          "data": {
            "text/plain": [
              "    skewness = -2.1577e-12"
            ]
          },
          "metadata": {}
        },
        {
          "output_type": "display_data",
          "data": {
            "text/plain": [
              "    totalEnergy = -3.9045e-07"
            ]
          },
          "metadata": {}
        },
        {
          "output_type": "display_data",
          "data": {
            "text/plain": [
              "    var = 4.9058e-13"
            ]
          },
          "metadata": {}
        },
        {
          "output_type": "display_data",
          "data": {
            "text/plain": []
          },
          "metadata": {}
        }
      ]
    }
  ]
}
