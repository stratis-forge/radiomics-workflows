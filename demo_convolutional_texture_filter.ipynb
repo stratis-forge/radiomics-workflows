{
  "nbformat": 4,
  "nbformat_minor": 0,
  "metadata": {
    "colab": {
      "name": "demo_convolutional_texture_filter.ipynb",
      "provenance": [],
      "collapsed_sections": [],
      "toc_visible": true
    },
    "kernelspec": {
      "name": "python3",
      "display_name": "Python 3"
    },
    "language_info": {
      "name": "python"
    }
  },
  "cells": [
    {
      "cell_type": "markdown",
      "metadata": {
        "id": "view-in-github"
      },
      "source": [
        "<a href=\"https://colab.research.google.com/github/cerr/CERR/blob/octave_dev/Jupyter_Notebooks/demo_convolutional_texture_filter.ipynb\" target=\"_parent\"><img src=\"https://colab.research.google.com/assets/colab-badge.svg\" alt=\"Open In Colab\"/></a>"
      ]
    },
   {
      "cell_type": "markdown",
      "source": [
        "## Introduction\n",
        "In this notebook we demonstrate how to apply Law's filter to a sample image using CERR.\n",
        "\n",
        "* [CERR](https://github.com/cerr/CERR) provides open-source implementations of several convolutional texture filters, viz., Mean, Laplacian of Gaussian (LoG), Sobel, Laws, Gabor, and Wavelets.\n",
        "\n",
        "* Filter definitions are compatible with IBSI [guidelines](https://www.overleaf.com/project/5da9e0b82f399f0001ad3970)."
      ],
      "metadata": {
        "id": "cEwdJF4jDBLw"
      }
    },
    {
      "cell_type": "markdown",
      "source": [
        "## Requirements\n",
        "\n",
        "* GNU Octave\n",
        "* CERR\n",
        "* Python packages for visualization\n",
        "\n",
        "Note: Installing these tools may incur a one-time extra runtime overhead.\n",
        "\n",
        "## I/O\n",
        "\n",
        "In this example, we use sample images in CERR's native `planC` format (imported from DICOM) to compute Law's texture maps, output to Octave matrix and numpy formats.\n",
        " \n",
        " ## Results\n",
        " This notebook comes with a static visualization of a sample filter output.  A second interactive display section is additionally made available on running the notebook.\n",
        " "
      ],
      "metadata": {
        "id": "IU8qBZ1ojeiV"
      }
    }, 
    {
      "cell_type": "markdown",
      "source": [
        "### Download latest Octave compile"
      ],
      "metadata": {
        "id": "5Qq1AifiQxva"
      }
    },
    {
      "cell_type": "code",
      "execution_count": 1,
      "metadata": {
        "id": "0MRbPKOrPIif"
      },
      "outputs": [],
      "source": [
        "%%capture\n",
        "! apt-get update\n",
        "! apt-get install gcc g++ gfortran make libblas-dev liblapack-dev libpcre3-dev \\\n",
        "libarpack2-dev libcurl4-gnutls-dev epstool libfftw3-dev transfig libfltk1.3-dev \\\n",
        "libfontconfig1-dev libfreetype6-dev libgl2ps-dev libglpk-dev libreadline-dev \\\n",
        "gnuplot-x11 libgraphicsmagick++1-dev libhdf5-serial-dev openjdk-8-jdk \\\n",
        "libsndfile1-dev llvm-dev lpr texinfo libgl1-mesa-dev libosmesa6-dev pstoedit \\\n",
        "portaudio19-dev libqhull-dev libqrupdate-dev libqscintilla2-dev \\\n",
        "libsuitesparse-dev texlive texlive-generic-recommended libxft-dev zlib1g-dev \\\n",
        "autoconf automake bison flex gperf gzip icoutils librsvg2-bin libtool perl \\\n",
        "rsync tar qtbase5-dev qttools5-dev qttools5-dev-tools libqscintilla2-qt5-dev \\\n",
        "wget git libsundials-dev gnuplot x11-apps"
      ]
    },
    {
      "cell_type": "code",
      "source": [
        "import os, urllib.request, json"
      ],
      "metadata": {
        "id": "IosmOUw6PxZO"
      },
      "execution_count": 2,
      "outputs": []
    },
    {
      "cell_type": "code",
      "source": [
        "# Download latest compiled octave package \n",
        "def get_octave(root_path):\n",
        "  os.chdir(root_path)\n",
        "  with urllib.request.urlopen(\"https://api.github.com/repos/cerr/octave-colab/releases/latest\") as url:\n",
        "      data = json.loads(url.read().decode())\n",
        "  fname = data['assets'][0]['name']\n",
        "  requrl = data['assets'][0]['browser_download_url']\n",
        "  urllib.request.urlretrieve(requrl, fname)\n",
        "  # Unzip, identify octave folder name\n",
        "  !tar xf {fname}\n",
        "  top_folder = !tar tf {fname} | head -1\n",
        "  octave_folder = top_folder[0][:-1]\n",
        "  octave_path = os.path.join(root_path,octave_folder)\n",
        "  return octave_path\n",
        "\n",
        "# Set path to Octave exectuable\n",
        "octave_path = get_octave('/content')\n",
        "os.environ['OCTAVE_EXECUTABLE'] = octave_path + '/bin/octave-cli'\n",
        "os.environ['PATH'] = octave_path + '/bin:' + os.environ['PATH']"
      ],
      "metadata": {
        "id": "7atRtYRCP0Bd"
      },
      "execution_count": 3,
      "outputs": []
    },
    {
      "cell_type": "markdown",
      "source": [
        "### Install Octave-Python bridge"
      ],
      "metadata": {
        "id": "nuV7gTl4P2pR"
      }
    },
    {
      "cell_type": "code",
      "source": [
        "%%capture\n",
        "! pip3 install octave_kernel\n",
        "! pip3 install oct2py==5.3.0\n",
        "\n",
        "%load_ext oct2py.ipython\n",
        "from oct2py import octave"
      ],
      "metadata": {
        "id": "lBT-_6EYP2za"
      },
      "execution_count": 4,
      "outputs": []
    },
    {
      "cell_type": "markdown",
      "source": [
        "### Download CERRx"
      ],
      "metadata": {
        "id": "BYnqVkiRP-LI"
      }
    },
    {
      "cell_type": "code",
      "source": [
        "%%capture\n",
        "!git clone --single-branch --branch octave_dev https://www.github.com/cerr/CERR.git\n",
        "import os\n",
        "currDir = os.getcwd()\n",
        "os.chdir(\"/content/CERR\")\n",
        "!git checkout 2847d7df4a889c2ebd9c93a9d25bf46fd2ee75be\n",
        "os.chdir(currDir)"
      ],
      "metadata": {
        "id": "pa7vqPgKP-WC"
      },
      "execution_count": 5,
      "outputs": []
    },
    {
      "cell_type": "markdown",
      "source": [
        "### Load required Octave packages "
      ],
      "metadata": {
        "id": "E-UBLQ24QJHM"
      }
    },
    {
      "cell_type": "code",
      "source": [
        "%%capture\n",
        "%%octave\n",
        "\n",
        "pkg load statistics\n",
        "pkg load image"
      ],
      "metadata": {
        "id": "wOH0YWSPQJV9"
      },
      "execution_count": 6,
      "outputs": []
    },
    {
      "cell_type": "markdown",
      "source": [
        "### Compute texture maps"
      ],
      "metadata": {
        "id": "EGpmR3WkQauV"
      }
    },
    {
      "cell_type": "code",
      "source": [
        "%%capture\n",
        "%%octave\n",
        "\n",
        "#Load synthetic phantom \n",
        "\n",
        "#Add CERRx to path\n",
        "currDir = pwd\n",
        "cerrPath = '/content/CERR'\n",
        "cd(cerrPath)\n",
        "addToPath2(cerrPath)\n",
        "cd(pwd)\n",
        "\n",
        "#Load test image \n",
        "parts = strsplit(getCERRPath, filesep);\n",
        "CERR_dir = strjoin(parts(1:end-2), filesep);\n",
        "sampleData = fullfile(CERR_dir,['Unit_Testing/data_for_cerr_tests/',...\n",
        "                      'IBSI2_synthetic_phantoms/checkerboard.mat']);\n",
        "planC = loadPlanC(sampleData, tempdir);\n",
        "planC = updatePlanFields(planC);\n",
        "planC = quality_assure_planC(sampleData, planC);"
      ],
      "metadata": {
        "id": "9uUo2OFoQa5x"
      },
      "execution_count": 7,
      "outputs": []
    },
    {
      "cell_type": "code",
      "source": [
        "%%capture\n",
        "%%octave\n",
        "#Path to sample configurations for benchmarking Laws' conv. filter\n",
        "configFile =  fullfile(cerrPath,['Unit_Testing/settings_for_comparisons/',...\n",
        "                         'IBSIPhase2ID2c.json']);\n",
        "\n",
        "#Compute texture map\n",
        "structNum = 1; #Whole scan\n",
        "init_ML_DICOM;\n",
        "planC = generateTextureMapFromPlanC(planC,structNum,configFile);"
      ],
      "metadata": {
        "id": "SduiqE8kXeM1"
      },
      "execution_count": 8,
      "outputs": []
    },
    {
      "cell_type": "code",
      "source": [
        "%%capture\n",
        "%%octave\n",
        "## For display:\n",
        "\n",
        "#Get original scan array\n",
        "indexS = planC{end};\n",
        "scanNum = 1;\n",
        "ctOffset = planC{indexS.scan}(scanNum).scanInfo(1).CTOffset;\n",
        "origScanArray = single(getScanArray(scanNum,planC)) - ctOffset;\n",
        "\n",
        "#Get texture map\n",
        "scanNum = 2;\n",
        "ctOffset = planC{indexS.scan}(scanNum).scanInfo(1).CTOffset;\n",
        "textureMap = single(getScanArray(scanNum,planC)) - ctOffset;"
      ],
      "metadata": {
        "id": "mZIe0_lTVmQ0"
      },
      "execution_count": 9,
      "outputs": []
    },
    {
      "cell_type": "markdown",
      "source": [
        "### Visualization (using Python/Matplotlib)"
      ],
      "metadata": {
        "id": "oH1NSZNDQpDi"
      }
    },
    {
      "cell_type": "code",
      "source": [
        "%octave_pull origScanArray textureMap"
      ],
      "metadata": {
        "id": "ywBwmdjKUcBh"
      },
      "execution_count": 10,
      "outputs": []
    },
    {
      "cell_type": "code",
      "source": [
        "import matplotlib.pyplot as plt\n",
        "import numpy as np\n",
        "from IPython.display import display\n",
        "from IPython.display import clear_output\n",
        "import ipywidgets as widgets\n",
        "\n",
        "dx, dy = 1, 1\n",
        "\n",
        "x = np.arange(0, 256, dx)\n",
        "y = np.arange(0, 256, dy)\n",
        "extent = np.min(x), np.max(x), np.min(y), np.max(y)\n",
        "\n",
        "def window_image(image, window_center, window_width):\n",
        "    img_min = window_center - window_width // 2\n",
        "    img_max = window_center + window_width // 2\n",
        "    window_image = image.copy()\n",
        "    window_image[window_image < img_min] = img_min\n",
        "    window_image[window_image > img_max] = img_max\n",
        "    \n",
        "    return window_image\n"
      ],
      "metadata": {
        "id": "xrPAlt-bQpOT"
      },
      "execution_count": 11,
      "outputs": []
    },
    {
        "cell_type": "markdown",
        "source": [
          "### Example: display center slice"
        ],
        "metadata": {
          "id": "ChI7JtOXYbo5"
        }
    },
    {
      "cell_type": "code",
      "source": [
        "# Plot center slice\n",
        "scanSize = np.shape(origScanArray)\n",
        "centerSlc = np.round(scanSize[2]/2).astype(int)\n",
        "print('Slice '+ str(centerSlc))      \n",
        "\n",
        "window_center = 40\n",
        "window_width = 400\n",
        "fig, (ax1,ax2) = plt.subplots(1,2,figsize=(15,15))\n",
        "\n",
        "windowed_img = window_image(origScanArray[:,:,centerSlc],\n",
        "                                window_center,window_width)\n",
        "ax1.imshow(windowed_img, cmap=plt.cm.gray, alpha=1,\n",
        "                    interpolation='nearest', extent=extent)\n",
        "ax1.title.set_text('Original scan')\n",
        "\n",
        "windowed_img = window_image(textureMap[:,:,centerSlc],\n",
        "                                window_center,window_width)\n",
        "ax2.imshow(windowed_img,cmap=plt.cm.gray, alpha=1,\n",
        "                    interpolation='nearest', extent=extent) \n",
        "ax2.title.set_text('Law''s filter output')\n"
      ],
      "metadata": {
        "colab": {
          "base_uri": "https://localhost:8080/",
          "height": 607
        },
        "id": "fsnZZjlti1ES",
        "outputId": "6908d9c4-2032-4577-c1a2-9cd86a8280dd"
      },
      "execution_count": 12,
      "outputs": [
        {
          "output_type": "stream",
          "name": "stdout",
          "text": [
            "E.g. slice 32\n"
          ]
        },
        {
          "output_type": "display_data",
          "data": {
            "text/plain": [
              "<Figure size 1500x1500 with 2 Axes>"
            ],
            "image/png": "[encoded data removed]"
          },
          "metadata": {}
        }
      ]
    },
    {
          "cell_type": "markdown",
          "source": [
            "### Interactive display"
          ],
          "metadata": {
            "id": "ZpS6BH3LYjQI"
          }
    },
    {
      "cell_type": "code",
      "source": [
        "# Interactive display\n",
        "\n",
        "def show_axial_slice(slcNum):\n",
        "    clear_output(wait=True)\n",
        "    print('Slice '+str(slcNum))\n",
        "    if 'fig' in locals():\n",
        "        fig.remove()\n",
        "        \n",
        "    fig, (ax1,ax2) = plt.subplots(1,2,figsize=(15,15))\n",
        "    window_center = 40\n",
        "    window_width = 400\n",
        "    windowed_img = window_image(origScanArray[:,:,slcNum-1],\n",
        "                                window_center,window_width)\n",
        "    ax1.imshow(windowed_img, cmap=plt.cm.gray, alpha=1,\n",
        "                    interpolation='nearest', extent=extent)\n",
        "    ax1.title.set_text('Original scan')\n",
        "    \n",
        "    \n",
        "    windowed_img = window_image(textureMap[:,:,slcNum-1],\n",
        "                                window_center,window_width)\n",
        "    ax2.imshow(textureMap[:,:,slcNum-1],cmap=plt.cm.gray, alpha=1,\n",
        "                    interpolation='nearest', extent=extent) \n",
        "    ax2.title.set_text('Law''s filter output')\n",
        "    plt.show()\n",
        "\n",
        "slice_slider = widgets.IntSlider(value=10,min=1,max=22,step=1)\n",
        "outputSlc = widgets.Output()\n",
        "\n",
        "display(slice_slider, outputSlc)\n",
        "\n",
        "def update_slice(change):\n",
        "    with outputSlc:\n",
        "        show_axial_slice(change['new'])\n",
        "\n",
        "slice_slider.observe(update_slice, names='value')"
      ],
      "metadata": {
        "colab": {
          "base_uri": "https://localhost:8080/",
          "height": 493,
          "referenced_widgets": [
            "ed012cc3d3cf48509366af30c896f00c",
            "74d01d87df4648a3b6570fb98b97478f",
            "be4bb7c6cdff4ec1985da5f559a1bc8a",
            "20efe16027a142449ba827f7513e9694",
            "63b0195c3a554ce9b87c7da152f1b14d"
          ]
        },
        "id": "YQYGt6gRilwS",
        "outputId": "73363166-f8b5-445f-facb-716faae8b752"
      },
      "execution_count": 20,
      "outputs": [ ]
    }
  ]
}
