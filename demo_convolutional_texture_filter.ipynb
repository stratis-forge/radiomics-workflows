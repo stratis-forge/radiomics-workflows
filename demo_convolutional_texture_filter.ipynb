{
  "nbformat": 4,
  "nbformat_minor": 0,
  "metadata": {
    "colab": {
      "provenance": []
    },
    "kernelspec": {
      "name": "python3",
      "display_name": "Python 3"
    },
    "title": "Demo convolutional texture filters in CERR.",
    "authors": [{"Name": "Aditi Iyer(iyera@mskcc.org)"}]
    "language_info": {
      "name": "python"
    },
    "widgets": {
      "application/vnd.jupyter.widget-state+json": {
        "af26c071ccea49b4a00851ae7930c134": {
          "model_module": "@jupyter-widgets/controls",
          "model_name": "IntSliderModel",
          "model_module_version": "1.5.0",
          "state": {
            "_dom_classes": [],
            "_model_module": "@jupyter-widgets/controls",
            "_model_module_version": "1.5.0",
            "_model_name": "IntSliderModel",
            "_view_count": null,
            "_view_module": "@jupyter-widgets/controls",
            "_view_module_version": "1.5.0",
            "_view_name": "IntSliderView",
            "continuous_update": true,
            "description": "",
            "description_tooltip": null,
            "disabled": false,
            "layout": "IPY_MODEL_1db1b83e56a943798c7b4ec30e397423",
            "max": 22,
            "min": 1,
            "orientation": "horizontal",
            "readout": true,
            "readout_format": "d",
            "step": 1,
            "style": "IPY_MODEL_d8a8f4f117be401ab20efda9d02383c0",
            "value": 11
          }
        },
        "1db1b83e56a943798c7b4ec30e397423": {
          "model_module": "@jupyter-widgets/base",
          "model_name": "LayoutModel",
          "model_module_version": "1.2.0",
          "state": {
            "_model_module": "@jupyter-widgets/base",
            "_model_module_version": "1.2.0",
            "_model_name": "LayoutModel",
            "_view_count": null,
            "_view_module": "@jupyter-widgets/base",
            "_view_module_version": "1.2.0",
            "_view_name": "LayoutView",
            "align_content": null,
            "align_items": null,
            "align_self": null,
            "border": null,
            "bottom": null,
            "display": null,
            "flex": null,
            "flex_flow": null,
            "grid_area": null,
            "grid_auto_columns": null,
            "grid_auto_flow": null,
            "grid_auto_rows": null,
            "grid_column": null,
            "grid_gap": null,
            "grid_row": null,
            "grid_template_areas": null,
            "grid_template_columns": null,
            "grid_template_rows": null,
            "height": null,
            "justify_content": null,
            "justify_items": null,
            "left": null,
            "margin": null,
            "max_height": null,
            "max_width": null,
            "min_height": null,
            "min_width": null,
            "object_fit": null,
            "object_position": null,
            "order": null,
            "overflow": null,
            "overflow_x": null,
            "overflow_y": null,
            "padding": null,
            "right": null,
            "top": null,
            "visibility": null,
            "width": null
          }
        },
        "d8a8f4f117be401ab20efda9d02383c0": {
          "model_module": "@jupyter-widgets/controls",
          "model_name": "SliderStyleModel",
          "model_module_version": "1.5.0",
          "state": {
            "_model_module": "@jupyter-widgets/controls",
            "_model_module_version": "1.5.0",
            "_model_name": "SliderStyleModel",
            "_view_count": null,
            "_view_module": "@jupyter-widgets/base",
            "_view_module_version": "1.2.0",
            "_view_name": "StyleView",
            "description_width": "",
            "handle_color": null
          }
        },
        "232290b11ef347a69de4876d204fe383": {
          "model_module": "@jupyter-widgets/output",
          "model_name": "OutputModel",
          "model_module_version": "1.0.0",
          "state": {
            "_dom_classes": [],
            "_model_module": "@jupyter-widgets/output",
            "_model_module_version": "1.0.0",
            "_model_name": "OutputModel",
            "_view_count": null,
            "_view_module": "@jupyter-widgets/output",
            "_view_module_version": "1.0.0",
            "_view_name": "OutputView",
            "layout": "IPY_MODEL_df3ae8b5945049fdbe56095f77a7efb6",
            "msg_id": "",
            "outputs": [
              {
                "output_type": "stream",
                "name": "stdout",
                "text": [
                  "Slice 11\n"
                ]
              },
              {
                "output_type": "display_data",
                "data": {
                  "text/plain": "<Figure size 1080x1080 with 2 Axes>",
                  "image/png": "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\n"
                },
                "metadata": {
                  "needs_background": "light"
                }
              }
            ]
          }
        },
        "df3ae8b5945049fdbe56095f77a7efb6": {
          "model_module": "@jupyter-widgets/base",
          "model_name": "LayoutModel",
          "model_module_version": "1.2.0",
          "state": {
            "_model_module": "@jupyter-widgets/base",
            "_model_module_version": "1.2.0",
            "_model_name": "LayoutModel",
            "_view_count": null,
            "_view_module": "@jupyter-widgets/base",
            "_view_module_version": "1.2.0",
            "_view_name": "LayoutView",
            "align_content": null,
            "align_items": null,
            "align_self": null,
            "border": null,
            "bottom": null,
            "display": null,
            "flex": null,
            "flex_flow": null,
            "grid_area": null,
            "grid_auto_columns": null,
            "grid_auto_flow": null,
            "grid_auto_rows": null,
            "grid_column": null,
            "grid_gap": null,
            "grid_row": null,
            "grid_template_areas": null,
            "grid_template_columns": null,
            "grid_template_rows": null,
            "height": null,
            "justify_content": null,
            "justify_items": null,
            "left": null,
            "margin": null,
            "max_height": null,
            "max_width": null,
            "min_height": null,
            "min_width": null,
            "object_fit": null,
            "object_position": null,
            "order": null,
            "overflow": null,
            "overflow_x": null,
            "overflow_y": null,
            "padding": null,
            "right": null,
            "top": null,
            "visibility": null,
            "width": null
          }
        }
      }
    }
  },
  "cells": [
    {
      "cell_type": "markdown",
      "metadata": {
        "id": "view-in-github"
      },
      "source": [
        "<a href=\"https://colab.research.google.com/github/cerr/CERR/blob/octave_dev/Jupyter_Notebooks/demo_convolutional_texture_filter.ipynb\" target=\"_parent\"><img src=\"https://colab.research.google.com/assets/colab-badge.svg\" alt=\"Open In Colab\"/></a>"
      ]
    },
    {
      "cell_type": "markdown",
      "source": [
        "## Introduction\n",
        "In this notebook we demonstrate how to apply Law's filter to a sample image using CERR.\n",
        "\n",
        "* [CERR](https://github.com/cerr/CERR) provides open-source implementations of several convolutional texture filters, viz., Mean, Laplacian of Gaussian (LoG), Sobel, Laws, Gabor, and Wavelets.\n",
        "\n",
        "* Filter definitions are compatible with IBSI [guidelines](https://www.overleaf.com/project/5da9e0b82f399f0001ad3970).\n",
        "\n",
        "### Requirements\n",
        "\n",
        "* GNU Octave with `statistics` & `image` packages\n",
        "* CERR\n",
        "* Python packages for visualization\n",
        "\n",
        "Note: Installing these tools may incur a one-time extra runtime overhead.\n",
        "\n",
        "### I/O\n",
        "\n",
        "In this example, we use sample images in CERR's native `planC` format (imported from DICOM) to compute Law's texture maps, output to Octave and numpy matrices.\n",
        " \n",
        "### Results\n",
        "This notebook comes with a static visualization of a sample filter output.  A second interactive display section is additionally made available on running the notebook.\n",
        "\n",
        "---"
      ],
      "metadata": {
        "id": "cEwdJF4jDBLw"
      }
    },
    {
      "cell_type": "markdown",
      "source": [
        "# Install dependencies \n",
        "Uncomment (`Ctrl+/`) the following to install (1) Octave with required packages (2) Oct2py and (3) CERR."
      ],
      "metadata": {
        "id": "2aD06pzvNqgU"
      }
    },
    {
      "cell_type": "markdown",
      "source": [
        "### Download latest Octave compile"
      ],
      "metadata": {
        "id": "5Qq1AifiQxva"
      }
    },
    {
      "cell_type": "code",
      "execution_count": 1,
      "metadata": {
        "id": "0MRbPKOrPIif"
      },
      "outputs": [],
      "source": [
        "# %%capture\n",
        "# ! apt-get update\n",
        "# ! apt-get install libgraphicsmagick++1-dev libsuitesparse-dev libqrupdate1 \\\n",
        "# libfftw3-3 gnuplot zsh openjdk-8-jdk\n"
      ]
    },
    {
      "cell_type": "code",
      "source": [
        "%%capture\n",
        "# # Download compiled octave package (latest)\n",
        "# def get_Octave(root_path):\n",
        "#  os.chdir(root_path)\n",
        "#  with urllib.request.urlopen(\"https://api.github.com/repos/cerr/octave-colab/releases/latest\") as url:\n",
        "#      data = json.loads(url.read().decode())\n",
        "#  fname = data['assets'][0]['name']\n",
        "#  requrl = data['assets'][0]['browser_download_url']\n",
        "#  urllib.request.urlretrieve(requrl, fname)\n",
        "#  # unzip, identify octave folder name\n",
        "#  !tar xf {fname}\n",
        "#  top_folder = !tar tf {fname} | head -1\n",
        "#  octave_folder = top_folder[0][:-1]\n",
        "#  octave_path = os.path.join(root_path,octave_folder)\n",
        "#  return octave_path"
      ],
      "metadata": {
        "id": "7atRtYRCP0Bd"
      },
      "execution_count": 2,
      "outputs": []
    },
    {
      "cell_type": "code",
      "source": [
        "# Define Octave path\n",
        "# import os, urllib.request, json\n",
        "# octave_path = get_Octave('/content')\n",
        "os.environ['OCTAVE_EXECUTABLE'] = octave_path + '/bin/octave-cli' #Replace with OCTAVE_EXECUTABLE path\n",
        "os.environ['PATH'] = octave_path + '/bin:' + os.environ['PATH']   #Replace with Octave path"
      ],
      "metadata": {
        "id": "77-UcpVQQVwb"
      },
      "execution_count": 3,
      "outputs": []
    },
    {
      "cell_type": "markdown",
      "source": [
        "### Install Octave-Python bridge"
      ],
      "metadata": {
        "id": "nuV7gTl4P2pR"
      }
    },
    {
      "cell_type": "code",
      "source": [
        "#%%capture\n",
        "# ! pip3 install octave_kernel\n",
        "# ! pip3 install oct2py==5.3.0"
      ],
      "metadata": {
        "id": "lBT-_6EYP2za",
        "colab": {
          "base_uri": "https://localhost:8080/"
        },
        "outputId": "dd7865e9-4f4c-486b-bde5-8d140a591cbf"
      },
      "execution_count": 4,
      "outputs": []
    },
    {
      "cell_type": "markdown",
      "source": [
        "### Download CERR"
      ],
      "metadata": {
        "id": "BYnqVkiRP-LI"
      }
    },
    {
      "cell_type": "code",
      "source": [
        "%%capture\n",
        "# !git clone --single-branch --branch octave_dev https://www.github.com/cerr/CERR.git\n",
        "# import os   >< \n",
        "# currDir = os.getcwd()\n",
        "# os.chdir(\"/content/CERR\")\n",
        "# !git checkout c2b65179da40622bc7b095f679edd17f5ebc681e\n",
        "# os.chdir(currDir)"
      ],
      "metadata": {
        "id": "pa7vqPgKP-WC"
      },
      "execution_count": 5,
      "outputs": []
    },
    {
      "cell_type": "markdown",
      "source": [
        "-----"
      ],
      "metadata": {
        "id": "f1iOtm_SO2M1"
      }
    },
    {
      "cell_type": "markdown",
      "source": [
        "# Generate & visualize texture maps using CERR"
      ],
      "metadata": {
        "id": "03jl_Iv0O31e"
      }
    },
    {
      "cell_type": "markdown",
      "source": [
        "### Load required Octave packages "
      ],
      "metadata": {
        "id": "E-UBLQ24QJHM"
      }
    },
    {
      "cell_type": "code",
      "source": [
        "%load_ext oct2py.ipython\n",
        "from oct2py import octave"
      ],
      "metadata": {
        "id": "GcZODvAnOf-N"
      },
      "execution_count": 6,
      "outputs": []
    },
    {
      "cell_type": "code",
      "source": [
        "%%capture\n",
        "%%octave\n",
        "pkg load statistics\n",
        "pkg load image"
      ],
      "metadata": {
        "id": "wOH0YWSPQJV9"
      },
      "execution_count": 7,
      "outputs": []
    },
    {
      "cell_type": "markdown",
      "source": [
        "### Compute texture maps"
      ],
      "metadata": {
        "id": "EGpmR3WkQauV"
      }
    },
    {
      "cell_type": "code",
      "source": [
        "%%octave\n",
        "\n",
        "#Add CERR to path\n",
        "cerrPath = '/content/CERR'\n",
        "currDir = pwd;\n",
        "cd(cerrPath)\n",
        "addToPath2(cerrPath)\n",
        "cd(currDir)\n",
        "\n",
        "#Load test image \n",
        "parts = strsplit(getCERRPath, filesep);\n",
        "CERR_dir = strjoin(parts(1:end-2), filesep);\n",
        "sampleData = fullfile(CERR_dir,['Unit_Testing/data_for_cerr_tests/',...\n",
        "                      'IBSI2_synthetic_phantoms/checkerboard.mat']);\n",
        "planC = loadPlanC(sampleData, tempdir);\n",
        "planC = updatePlanFields(planC);\n",
        "planC = quality_assure_planC(sampleData, planC);"
      ],
      "metadata": {
        "id": "9uUo2OFoQa5x",
        "colab": {
          "base_uri": "https://localhost:8080/",
          "height": 104
        },
        "outputId": "c68073e0-1b5a-4dd1-ac7f-440ee3f7b614"
      },
      "execution_count": 8,
      "outputs": []
    },
    {
      "cell_type": "code",
      "source": [
        "%%capture\n",
        "%%octave\n",
        "\n",
        "#Path to sample configurations for benchmarking Laws' conv. filter\n",
        "configFile =  fullfile(cerrPath,['Unit_Testing/settings_for_comparisons/',...\n",
        "                         'IBSIPhase2-1ID2c.json'])\n",
        "\n",
        "#Compute texture map\n",
        "structNum = 1; #Whole scan\n",
        "scanNum = 1;\n",
        "init_ML_DICOM;\n",
        "planC = generateTextureMapFromPlanC(planC,scanNum,structNum,configFile);"
        ],
        "metadata": {
              "id": "SduiqE8kXeM1"
        },
        "execution_count": 9,
        "outputs": []
    },
    {
      "cell_type": "code",
      "source": [
        "%%capture\n",
        "%%octave\n",
        "## For display:\n",
        "\n",
        "#Get original scan array\n",
        "indexS = planC{end};\n",
        "scanNum = 1;\n",
        "ctOffset = planC{indexS.scan}(scanNum).scanInfo(1).CTOffset;\n",
        "origScanArray = single(getScanArray(scanNum,planC)) - ctOffset;\n",
        "\n",
        "#Get texture map\n",
        "scanNum = 2;\n",
        "ctOffset = planC{indexS.scan}(scanNum).scanInfo(1).CTOffset;\n",
        "textureMap = single(getScanArray(scanNum,planC)) - ctOffset;"
      ],
      "metadata": {
        "id": "mZIe0_lTVmQ0"
      },
      "execution_count": 10,
      "outputs": []
    },
    {
      "cell_type": "markdown",
      "source": [
        "### Visualization (using Python/Matplotlib)"
      ],
      "metadata": {
        "id": "oH1NSZNDQpDi"
      }
    },
    {
      "cell_type": "code",
      "source": [
        "%octave_pull origScanArray textureMap"
      ],
      "metadata": {
        "id": "ywBwmdjKUcBh"
      },
      "execution_count": 11,
      "outputs": []
    },
    {
      "cell_type": "code",
      "source": [
        "import matplotlib.pyplot as plt\n",
        "import numpy as np\n",
        "\n",
        "dx, dy = 1, 1\n",
        "\n",
        "x = np.arange(0, 256, dx)\n",
        "y = np.arange(0, 256, dy)\n",
        "extent = np.min(x), np.max(x), np.min(y), np.max(y)\n",
        "\n",
        "def window_image(image, window_center, window_width):\n",
        "    img_min = window_center - window_width // 2\n",
        "    img_max = window_center + window_width // 2\n",
        "    window_image = image.copy()\n",
        "    window_image[window_image < img_min] = img_min\n",
        "    window_image[window_image > img_max] = img_max\n",
        "    \n",
        "    return window_image\n"
      ],
      "metadata": {
        "id": "xrPAlt-bQpOT"
      },
      "execution_count": 12,
      "outputs": []
    },
    {
      "cell_type": "markdown",
      "source": [
        "### Example: display center slice"
      ],
      "metadata": {
        "id": "ChI7JtOXYbo5"
      }
    },
    {
      "cell_type": "code",
      "source": [
        "# Plot center slice\n",
        "scanSize = np.shape(origScanArray)\n",
        "centerSlc = np.round(scanSize[2]/2).astype(int)\n",
        "print('Slice '+ str(centerSlc))      \n",
        "\n",
        "window_center = 40\n",
        "window_width = 400\n",
        "fig, (ax1,ax2) = plt.subplots(1,2,figsize=(15,15))\n",
        "\n",
        "windowed_img = window_image(origScanArray[:,:,centerSlc],\n",
        "                                window_center,window_width)\n",
        "ax1.imshow(windowed_img, cmap=plt.cm.gray, alpha=1,\n",
        "                    interpolation='nearest', extent=extent)\n",
        "ax1.title.set_text('Original scan')\n",
        "\n",
        "windowed_img = window_image(textureMap[:,:,centerSlc],\n",
        "                                window_center,window_width)\n",
        "ax2.imshow(windowed_img,cmap=plt.cm.gray, alpha=1,\n",
        "                    interpolation='nearest', extent=extent) \n",
        "ax2.title.set_text('Law''s filter output')\n"
      ],
      "metadata": {
        "colab": {
          "base_uri": "https://localhost:8080/",
          "height": 461
        },
        "id": "fsnZZjlti1ES",
        "outputId": "57f54a4a-e3db-4dc2-8c26-dab08ab8c1e4"
      },
      "execution_count": 13,
      "outputs": [
        {
          "output_type": "stream",
          "name": "stdout",
          "text": [
            "Slice 32\n"
          ]
        },
        {
          "output_type": "display_data",
          "data": {
            "text/plain": [
              "<Figure size 1080x1080 with 2 Axes>"
            ],
            "image/png": "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\n"
          },
          "metadata": {
            "needs_background": "light"
          }
        }
      ]
    },
    {
      "cell_type": "markdown",
      "source": [
        "### Interactive display"
      ],
      "metadata": {
        "id": "ZpS6BH3LYjQI"
      }
    },
    {
      "cell_type": "code",
      "source": [
        "# Interactive display\n",
        "\n",
        "from IPython.display import clear_output\n",
        "import ipywidgets as widgets\n",
        "\n",
        "def show_axial_slice(slcNum):\n",
        "    clear_output(wait=True)\n",
        "    print('Slice '+str(slcNum))\n",
        "    if 'fig' in locals():\n",
        "        fig.remove()\n",
        "        \n",
        "    fig, (ax1,ax2) = plt.subplots(1,2,figsize=(15,15))\n",
        "    window_center = 40\n",
        "    window_width = 400\n",
        "    windowed_img = window_image(origScanArray[:,:,slcNum-1],\n",
        "                                window_center,window_width)\n",
        "    ax1.imshow(windowed_img, cmap=plt.cm.gray, alpha=1,\n",
        "                    interpolation='nearest', extent=extent)\n",
        "    ax1.title.set_text('Original scan')\n",
        "    \n",
        "    \n",
        "    windowed_img = window_image(textureMap[:,:,slcNum-1],\n",
        "                                window_center,window_width)\n",
        "    ax2.imshow(textureMap[:,:,slcNum-1],cmap=plt.cm.gray, alpha=1,\n",
        "                    interpolation='nearest', extent=extent) \n",
        "    ax2.title.set_text('Law''s filter output')\n",
        "    plt.show()\n",
        "\n",
        "slice_slider = widgets.IntSlider(value=10,min=1,max=22,step=1)\n",
        "outputSlc = widgets.Output()\n",
        "\n",
        "display(slice_slider, outputSlc)\n",
        "\n",
        "def update_slice(change):\n",
        "    with outputSlc:\n",
        "        show_axial_slice(change['new'])\n",
        "\n",
        "slice_slider.observe(update_slice, names='value')"
      ],
      "metadata": {
        "colab": {
          "base_uri": "https://localhost:8080/",
          "height": 493,
          "referenced_widgets": [
            "af26c071ccea49b4a00851ae7930c134",
            "1db1b83e56a943798c7b4ec30e397423",
            "d8a8f4f117be401ab20efda9d02383c0",
            "232290b11ef347a69de4876d204fe383",
            "df3ae8b5945049fdbe56095f77a7efb6"
          ]
        },
        "id": "YQYGt6gRilwS",
        "outputId": "cdc05c0e-c012-493e-abf2-432760da2759"
      },
      "execution_count": 14,
      "outputs": [
        {
          "output_type": "display_data",
          "data": {
            "text/plain": [
              "IntSlider(value=10, max=22, min=1)"
            ],
            "application/vnd.jupyter.widget-view+json": {
              "version_major": 2,
              "version_minor": 0,
              "model_id": "af26c071ccea49b4a00851ae7930c134"
            }
          },
          "metadata": {}
        },
        {
          "output_type": "display_data",
          "data": {
            "text/plain": [
              "Output()"
            ],
            "application/vnd.jupyter.widget-view+json": {
              "version_major": 2,
              "version_minor": 0,
              "model_id": "232290b11ef347a69de4876d204fe383"
            }
          },
          "metadata": {}
        }
      ]
    }
  ]
}
