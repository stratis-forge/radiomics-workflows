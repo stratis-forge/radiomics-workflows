{
  "nbformat": 4,
  "nbformat_minor": 0,
  "metadata": {
    "colab": {
      "provenance": []
    },
    "kernelspec": {
      "name": "python3",
      "display_name": "Python 3"
    },
    "language_info": {
      "name": "python"
    }
  },
  "cells": [
      {
        "cell_type": "markdown",
        "metadata": {
          "id": "view-in-github"
        },
        "source": [
          "<a href=\"https://colab.research.google.com/github/stratis-forge/radiomics-workflows/blob/main/IBSI2_benchmark_validation.ipynb\" target=\"_parent\"><img src=\"https://colab.research.google.com/assets/colab-badge.svg\" alt=\"Open In Colab\"/></a>"
        ],
        "title": "IBSI2 benchmark validation with CERR",
        "authors": [{"Name": "Aditi Iyer(iyera@mskcc.org)"}]
      },
      {
        "cell_type": "markdown",
        "metadata": {
          "id": "yu88yJaKGk3m"
        },
        "source": [
          "#  Validating CERR radiomics against IBSI2 benchmarks \n",
          "\n",
          "\n"
        ]
    },
    {
      "cell_type": "markdown",
      "source": [
        "## Requirements\n",
        "* GNU Octave with image, statistics, and io packages\n",
        "* Oct2Py\n",
        "* CERR\n",
        "* Python with matplotlib, numpy, and ipywidgets packages\n",
        "\n",
        "Note: Installing these tools may incur a one-time extra runtime overhead.\n",
        "\n",
        "## I/O\n",
        "This notebook demonstrates how to run unit tests to evaluate CERR's compatibility with IBSI-2 benchmarks.\n",
        "DICOM-format phantoms, scans, and segmentations provided by the [IBSI](https://github.com/theibsi/data_sets) were imported to CERR's native planC format. Preprocessing and filter parameters are input via JSON files. "
      ],
      "metadata": {
        "id": "8i8OmqNhiB5J"
      }
    },
    {
      "cell_type": "markdown",
      "source": [
        "## Install dependencies\n",
        "Uncomment (Ctrl+/) the following sections to install (1) Octave with required packages (2) Oct2py and (3) CERR."
      ],
      "metadata": {
        "id": "ySN2tYDEiNWQ"
      }
    },
    {
      "cell_type": "markdown",
      "source": [
        "##Download latest Octave compile"
      ],
      "metadata": {
        "id": "WV-V2FATiRqm"
      }
    },
    {
      "cell_type": "code",
      "source": [
        "# %%capture\n",
        "# ! apt-get update\n",
        "# ! apt-get install libgraphicsmagick++1-dev libsuitesparse-dev libqrupdate1 \\\n",
        "# libfftw3-3 gnuplot zsh openjdk-8-jdk\n",
        "# ! cd /usr/lib/x86_64-linux-gnu/ && ln -s libhdf5_serial.so.103 libhdf5_serial.so.100 \\\n",
        "# && ln -s libreadline.so.8 libreadline.so.7\n",
        "# !apt-get install gfortran-7"
      ],
      "metadata": {
        "id": "zymCj6xjEcgJ"
      },
      "execution_count": 1,
      "outputs": []
    },
    {
      "cell_type": "code",
      "execution_count": 2,
      "metadata": {
        "id": "c5JXR__4EC1N"
      },
      "outputs": [],
      "source": [
        "# #Download latest compiled octave package \n",
        "# def get_octave(root_path):\n",
        "#   os.chdir(root_path)\n",
        "#   with urllib.request.urlopen(\"https://api.github.com/repos/cerr/octave-colab/releases/latest\") as url:\n",
        "#       data = json.loads(url.read().decode())\n",
        "#   fname = data['assets'][0]['name']\n",
        "#   requrl = data['assets'][0]['browser_download_url']\n",
        "#   urllib.request.urlretrieve(requrl, fname)\n",
        "#   # Unzip, identify octave folder name\n",
        "#   !tar xf {fname}\n",
        "#   top_folder = !tar tf {fname} | head -1\n",
        "#   octave_folder = top_folder[0][:-1]\n",
        "#   octave_path = os.path.join(root_path,octave_folder)\n",
        "#   return octave_path"
      ]
    },
    {
      "cell_type": "code",
      "source": [
        "# # Set path to Octave exectuable\n",
        "# import os, urllib.request, json\n",
        "# octave_path = get_octave('/content')\n",
        "# os.environ['OCTAVE_EXECUTABLE'] = octave_path + '/bin/octave-cli'  #Replace with OCTAVE_EXECUTABLE path\n",
        "# os.environ['PATH'] = octave_path + '/bin:' + os.environ['PATH']    #Replace with Octave path"
      ],
      "metadata": {
        "id": "qplppLUAE1zi"
      },
      "execution_count": 3,
      "outputs": []
    },
    {
      "cell_type": "code",
      "source": [
        "# %%capture\n",
        "# ! pip3 install octave_kernel\n",
        "# ! pip3 install oct2py"
      ],
      "metadata": {
        "id": "23t6s_IWE6Zq"
      },
      "execution_count": 4,
      "outputs": []
    },
    {
      "cell_type": "markdown",
      "source": [
        "## Download CERR "
      ],
      "metadata": {
        "id": "C6afAx60jZfd"
      }
    },
    {
      "cell_type": "code",
      "source": [
        "%%capture\n",
        "# !git clone --single-branch --branch octave_dev https://www.github.com/cerr/CERR.git  \n",
        "# !cd /content/CERR\n",
        "# !git checkout 18d4821decf4ffd45a6474c4d9f6dc85840af682\n",
        "# !cd /content"
      ],
      "metadata": {
        "id": "J1HlZfi1E4Qq"
      },
      "execution_count": 5,
      "outputs": []
    },
    {
      "cell_type": "markdown",
      "source": [
        "## Run unit tests for IBSI-2 compatibility"
      ],
      "metadata": {
        "id": "Stb4dqKTjuOf"
      }
    },
    {
      "cell_type": "code",
      "source": [
        "# %load_ext oct2py.ipython\n",
        "# from oct2py import octave"
      ],
      "metadata": {
        "id": "gctju-3OE8-K"
      },
      "execution_count": 6,
      "outputs": []
    },
    {
      "cell_type": "code",
      "source": [
        "# %%capture\n",
        "# %%octave\n",
        "# pkg load statistics\n",
        "# pkg load image\n",
        "# pkg load io"
      ],
      "metadata": {
        "id": "RtQ6dCmfE-s1"
      },
      "execution_count": 7,
      "outputs": []
    },
    {
      "cell_type": "code",
      "source": [
        "# %%capture\n",
        "# %%octave\n",
        "# #Add CERR to path\n",
        "# curr_dir = pwd()\n",
        "# cd('/content/CERR')\n",
        "# addToPath2(pwd)\n",
        "# cd(curr_dir)"
      ],
      "metadata": {
        "id": "OeEPc4G8FBWW"
      },
      "execution_count": 8,
      "outputs": []
    },
    {
      "cell_type": "code",
      "source": [
        "%%octave\n",
        "\n",
        "# Create output dir\n",
        "result_dir = '/content/test'\n",
        "mkdir(result_dir)\n",
        "\n",
        "# Specify IBSI-2 configuration to evaluate\n",
        "config = '3b'; #Replace with desired config\n",
        "\n",
        "# Run IBSI test with latest version of CERR\n",
        "#This test uses phantom images distributed by\n",
        "#the IBSI at https://github.com/theibsi/data_sets\n",
        "#Preprocessing & filter parameters are supplied via JSON \n",
        "#(E.g. CERR/Unit_Testing/settings_for_comparisons/IBSIPhase2-1ID3a1.json)  \n",
        "runIBSI2benchmarkFilters(result_dir,config);"
      ],
      "metadata": {
        "id": "KnCheQD6FEVS"
      },
      "execution_count": 9,
      "outputs": []
    },
    {
      "cell_type": "markdown",
      "source": [
        "## Compare with validated CERR benchmark\n"
      ],
      "metadata": {
        "id": "UlRQxtJZm0Xs"
      }
    },
    {
      "cell_type": "code",
      "source": [
        "%%octave\n",
        "\n",
        "function scan3M = getResponseMap(filename)\n",
        "\n",
        "  #Import to CERR  \n",
        "  planC = nii2cerr(filename,'CT',[],0);\n",
        "  planC = updatePlanFields(planC);\n",
        "  planC = quality_assure_planC(filename, planC);\n",
        "  indexS = planC{end};\n",
        "\n",
        "  scan3M = double(getScanArray(1,planC));\n",
        "  scan3M = scan3M - double(planC{indexS.scan}(1).scanInfo(1).CTOffset);\n",
        "\n",
        "end"
      ],
      "metadata": {
        "id": "5ytmRCTPIP5c"
      },
      "execution_count": 10,
      "outputs": []
    },
    {
      "cell_type": "code",
      "source": [
        "%%capture\n",
        "%%octave\n",
        "\n",
        "#Load response maps\n",
        "benchmark_filename = '/content/CERR/Unit_Testing/data_for_cerr_tests/IBSI2_synthetic_phantoms/Results/3b1.nii';\n",
        "benchmark_map = getResponseMap(benchmark_filename);\n",
        "\n",
        "test_filename = '/content/test/3b1.nii';\n",
        "test_map = getResponseMap(test_filename);"
      ],
      "metadata": {
        "id": "fiiUmgpMn69X"
      },
      "execution_count": 11,
      "outputs": []
    },
    {
      "cell_type": "code",
      "source": [
        "%%octave\n",
        "\n",
        "#Display max difference\n",
        "diff_map = benchmark_map - test_map;\n",
        "\n",
        "maxDiff = max(diff_map(:));\n",
        "sprintf('Max diff: %0.5g',maxDiff)"
      ],
      "metadata": {
        "id": "AirqjZMsyv3R"
      },
      "execution_count": 12,
      "outputs": []
    },
    {
      "cell_type": "markdown",
      "source": [
        "## Compare scalar features extracted from lung CT phantom"
      ],
      "metadata": {
        "id": "Z-xacR89vvJo"
      }
    },
    {
      "cell_type": "code",
      "source": [
        "%%octave\n",
        "\n",
        "phase = 2; #IBSI validation phase \n",
        "runIBSI2benchmarkStatistics(result_dir,phase);"
      ],
      "metadata": {
        "id": "0kivrjPCvue1"
      },
      "execution_count": 13,
      "outputs": []
    },
    {
      "cell_type": "code",
      "source": [
        "import pandas as pd\n",
        "output_statistics_file = '/content/test/IBSIphase2-2.csv'\n",
        "df = pd.read_csv (output_statistics_file)\n",
        "df_subset = df.iloc[:, : 8]\n",
        "print(df_subset.head())"
      ],
      "metadata": {
        "colab": {
          "base_uri": "https://localhost:8080/"
        },
        "id": "fK2minZZwIp8",
        "outputId": "483615d0-bbb2-47dd-a560-0b4eff420a70"
      },
      "execution_count": 14,
      "outputs": [
        {
          "output_type": "stream",
          "name": "stdout",
          "text": [
            "       family                                       feature_name  \\\n",
            "0  Diagnostic       Number of voxels in ROI before interpolation   \n",
            "1  Diagnostic  Number of voxels in intensity ROI-mask after i...   \n",
            "2  Diagnostic  Mean intensity in intensity ROI-mask after int...   \n",
            "3  Diagnostic  Max intensity in intensity ROI-mask after inte...   \n",
            "4  Diagnostic  Min intensity in intensity ROI-mask after inte...   \n",
            "\n",
            "                  feature_tag ibsi_identifier          1.A          1.B  \\\n",
            "0                diag_n_voxel               0  125256.0000  125256.0000   \n",
            "1   diag_n_voxel_interp_reseg               1  125238.0000  357802.0000   \n",
            "2  diag_mean_int_interp_reseg               2     -46.9756     -46.4075   \n",
            "3   diag_max_int_interp_reseg               3     377.0000     377.0000   \n",
            "4   diag_min_int_interp_reseg               4   -1000.0000    -997.0000   \n",
            "\n",
            "           2.A          2.B  \n",
            "0  125256.0000  125256.0000  \n",
            "1  125238.0000  357802.0000  \n",
            "2     -46.9756     -46.4075  \n",
            "3     377.0000     377.0000  \n",
            "4   -1000.0000    -997.0000  \n"
          ]
        }
      ]
    }
  ]
}
