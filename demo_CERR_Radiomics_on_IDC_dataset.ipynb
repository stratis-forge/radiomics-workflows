{
  "nbformat": 4,
  "nbformat_minor": 0,
  "metadata": {
    "colab": {
      "provenance": []
    },
    "kernelspec": {
      "name": "python3",
      "display_name": "Python 3"
    },
    "language_info": {
      "name": "python"
    },
    "accelerator": "GPU",
    "gpuClass": "standard"
  },
  "cells": [
    {
      "cell_type": "markdown",
      "source": [
        "<a href=\"https://colab.research.google.com/github/stratis-forge/radiomics-workflows/blob/main/demo_CERR_Radiomics_on_IDC_dataset.ipynb\" target=\"_parent\"><img src=\"https://colab.research.google.com/assets/colab-badge.svg\" alt=\"Open In Colab\"/></a>"
      ],
      "title": "Demo CERR radiomics on IDC Lung1 dataset",
      "authors": [{"Name": "Aditi Iyer(iyera@mskcc.org)"}],
      "metadata": {
        "id": "18HNIZbJtzV0"
      }
    },
    {
      "cell_type": "markdown",
      "source": [
        "# Introduction\n",
        "This tutorial demonstrates radiomics calculations using STRATIS on a cohort of patients from the [NCI's IDC](https://portal.imaging.datacommons.cancer.gov/about/) repository. \n",
        "\n",
        "We extract features from CT scans of 10 non-small cell lung cancer (NSCLC) patients from the [Lung1](https://wiki.cancerimagingarchive.net/display/Public/NSCLC-Radiomics) dataset.\n",
        "\n",
        "\n"
      ],
      "metadata": {
        "id": "_FNmwyUvStsB"
      }
    },
    {
      "cell_type": "markdown",
      "source": [
        "## Requirements\n"
      ],
      "metadata": {
        "id": "0Ipsbvj4aojp"
      }
    },
    {
      "cell_type": "markdown",
      "source": [
        "* GNU Octave with `statistics`, `io` & `image` packages for Debian/Linux distributed via MSKCC Box.\n",
        "* [CERR](https://github.com/cerr/CERR/tree/octave_dev)\n",
        "* Python libraries bridging Octave & Python: `Oct2py` and `Octave_kernel` \n",
        "\n",
        " *See [installation instructions for different operating systems](https://github.com/stratis-forge/installation-and-dependencies).*  \n",
        " \n",
        " *Note: Octave and CERR can be downloaded to Google Drive and [mounted](https://colab.research.google.com/notebooks/io.ipynb) to reduce runtime overheads.*\n",
        "\n",
        "---\n"
      ],
      "metadata": {
        "id": "xHO8moMgaknZ"
      }
    },
    {
      "cell_type": "markdown",
      "source": [
        "## Octave and CERR locations"
      ],
      "metadata": {
        "id": "3bYL-H3zC3hG"
      }
    },
    {
      "cell_type": "code",
      "source": [
        "# Specify paths\n",
        "octave_path = '/content/octave'\n",
        "cerr_path = '/content/CERR'"
      ],
      "metadata": {
        "id": "hOzjlJTIawIt"
      },
      "execution_count": 1,
      "outputs": []
    },
    {
      "cell_type": "markdown",
      "source": [
        "## Install dependencies"
      ],
      "metadata": {
        "id": "XpLkrdrhDYbT"
      }
    },
    {
      "cell_type": "markdown",
      "source": [
        "Uncomment `(Ctrl + /)`and evaluate the following cells  to download GNU Octave \n",
        "and CERR"
      ],
      "metadata": {
        "id": "yulFVD4na1as"
      }
    },
    {
      "cell_type": "code",
      "source": [
        "%%capture\n",
        "# # Download Octave\n",
        "# oct_build_box = 'https://mskcc.box.com/shared/static/ylfkha0p66oc8v5kh2z1qx9m13n0ijcx.gz'\n",
        "# oct_save_path = '/content/octave_7.3.0.tar.gz'\n",
        "# ! wget {oct_build_box} -O {oct_save_path}\n",
        "# ! tar xf {oct_save_path}\n",
        "# ! rm {oct_save_path}"
      ],
      "metadata": {
        "id": "tIkj2HlXW0QE"
      },
      "execution_count": 2,
      "outputs": []
    },
    {
      "cell_type": "code",
      "source": [
        "#%%capture\n",
        "# Download CERR\n",
        "# ! cd \"$(dirname -- \"$cerr_path\")\" && git clone --depth 1 --single-branch \\\n",
        "# --branch octave_dev https://www.github.com/cerr/CERR.git \\\n",
        "# && cd cerr_path && git checkout e888db94b74b2a1b409c9eac52110fe9b001a21e"
      ],
      "metadata": {
        "id": "SdaN24zYDxXl"
      },
      "execution_count": 3,
      "outputs": []
    },
    {
      "cell_type": "code",
      "source": [
        "#%%capture \n",
        "# # Download Octave dependencies\n",
        "# ! apt-get update\n",
        "# ! cd /usr/lib/x86_64-linux-gnu/ && ln -s libhdf5_serial.so.103 libhdf5_serial.so.100 && ln -s libreadline.so.8 libreadline.so.7\n",
        "# ! apt-get install libgraphicsmagick++-q16-12 libcholmod3 libcxsparse3 \\\n",
        "# libumfpack5 libspqr2 libqrupdate1 libfftw3-3 libgfortran4 gnuplot openjdk-8-jdk\n",
        "\n",
        "# # Install Oct2py package for Python-Octave communication\n",
        "# ! pip3 install octave_kernel\n",
        "# ! pip3 install oct2py==5.3.0"
      ],
      "metadata": {
        "id": "vvwN41PIZqVD"
      },
      "execution_count": 4,
      "outputs": []
    },
    {
      "cell_type": "code",
      "source": [
        "# # Set path to Octave exectuable \n",
        "import os, urllib.request, json\n",
        "os.environ['OCTAVE_EXECUTABLE'] = octave_path + '/bin/octave-cli'\n",
        "os.environ['PATH'] = octave_path + '/bin:' + os.environ['PATH']\n",
        "\n",
        "# Enable Octave magic\n",
        "%load_ext oct2py.ipython\n",
        "from oct2py import octave"
      ],
      "metadata": {
        "id": "qwhIf02kDlav"
      },
      "execution_count": 5,
      "outputs": []
    },
    {
      "cell_type": "markdown",
      "source": [
        "## Set up a GCP BigQuery project (Adapted from [IDC tutorials](https://github.com/ImagingDataCommons/IDC-Tutorials/blob/master/notebooks/getting_started/part1_prerequisites.ipynb))\n",
        "\n"
      ],
      "metadata": {
        "id": "Dqa9kjcoevez"
      }
    },
    {
      "cell_type": "markdown",
      "source": [
        "\n",
        "\n",
        "1.   ####  A Google account  \n",
        "  Login to existing Google account or see [instructions](https://accounts.google.com/signup/v2/webcreateaccount?dsh=308321458437252901&continue=https%3A%2F%2Faccounts.google.com%2FManageAccount&flowName=GlifWebSignIn&flowEntry=SignUp#FirstName=&LastName=) to create a new account.\n",
        "\n",
        "2. #### Activate GCP and create a GCP project  \n",
        " \n",
        "  *  Go to https://console.cloud.google.com/, and accept Terms and conditions.\n",
        "  *  Click `Select a project` in the upper-left corner of the GCP console.\n",
        "  *  Click `Create new project`.\n",
        "  *  Open the GCP console menu icon `☰` and select `Dashboard` to display project information. Copy your `Project ID` and insert it in place of `REPLACE_ME_WITH_YOUR_PROJECT_ID` in the cell below.   \n",
        "\n",
        "\n",
        "3. #### Add the bigquery-public-data project\n",
        "  * Open the BigQuery console: https://console.cloud.google.com/bigquery, and click the `+ ADD DATA` button.\n",
        "  * Select `Star project by name` and type in `bigquery-public-data` as the project name.\n"
      ],
      "metadata": {
        "id": "RjFggvL5fd68"
      }
    },
    {
      "cell_type": "markdown",
      "source": [
        "## Authentication for Google services"
      ],
      "metadata": {
        "id": "y4hUygf1VLmq"
      }
    },
    {
      "cell_type": "code",
      "source": [
        "# Initialize Google Cloud Project ID\n",
        "my_ProjectID = \"REPLACE_ME_WITH_YOUR_PROJECT_ID \" #Replace with project ID \n",
        "\n",
        "import os\n",
        "os.environ[\"GCP_PROJECT_ID\"] = my_ProjectID"
      ],
      "metadata": {
        "id": "eI0dk5DDSlhQ"
      },
      "execution_count": 6,
      "outputs": []
    },
    {
      "cell_type": "code",
      "source": [
        "from google.colab import auth\n",
        "auth.authenticate_user()"
      ],
      "metadata": {
        "id": "e613RG9eWhGT"
      },
      "execution_count": 7,
      "outputs": []
    },
    {
      "cell_type": "markdown",
      "source": [
        "## Download selected cohort"
      ],
      "metadata": {
        "id": "E9EqL80GVSf5"
      }
    },
    {
      "cell_type": "markdown",
      "source": [
        "Query the `idc_current` dataset and output a dataframe with URLs for patients from the `Lung1` dataset.   "
      ],
      "metadata": {
        "id": "TUySF22Ha_vi"
      }
    },
    {
      "cell_type": "code",
      "source": [
        "from google.cloud import bigquery\n",
        "\n",
        "bq_client = bigquery.Client(my_ProjectID) # BigQuery client is initialized with \n",
        "                                          # user-input project ID  \n",
        "\n",
        "selection_query = \"\"\"\n",
        "SELECT\n",
        "  PatientID,\n",
        "  StudyInstanceUID,\n",
        "  SeriesInstanceUID,\n",
        "  collection_id,\n",
        "  gcs_url\n",
        "FROM\n",
        "  `bigquery-public-data.idc_current.dicom_all`\n",
        "WHERE\n",
        "  Modality IN (\"CT\",\n",
        "    \"RTSTRUCT\")\n",
        "  AND Collection_ID = \"nsclc_radiomics\"\n",
        "\"\"\"\n",
        "selection_result = bq_client.query(selection_query)\n",
        "cohort_df = selection_result.result().to_dataframe()\n",
        "\n",
        "#cohort_df\n",
        "display(cohort_df.info())"
      ],
      "metadata": {
        "colab": {
          "base_uri": "https://localhost:8080/",
          "height": 243
        },
        "id": "iiVl0voJDz7t",
        "outputId": "c2b02728-5e52-486c-edd2-9ffff8019d4f"
      },
      "execution_count": 8,
      "outputs": [
        {
          "output_type": "stream",
          "name": "stdout",
          "text": [
            "<class 'pandas.core.frame.DataFrame'>\n",
            "RangeIndex: 51652 entries, 0 to 51651\n",
            "Data columns (total 5 columns):\n",
            " #   Column             Non-Null Count  Dtype \n",
            "---  ------             --------------  ----- \n",
            " 0   PatientID          51652 non-null  object\n",
            " 1   StudyInstanceUID   51652 non-null  object\n",
            " 2   SeriesInstanceUID  51652 non-null  object\n",
            " 3   collection_id      51652 non-null  object\n",
            " 4   gcs_url            51652 non-null  object\n",
            "dtypes: object(5)\n",
            "memory usage: 2.0+ MB\n"
          ]
        },
        {
          "output_type": "display_data",
          "data": {
            "text/plain": [
              "None"
            ]
          },
          "metadata": {}
        }
      ]
    },
    {
      "cell_type": "markdown",
      "source": [
        "We will use CT scans and GTV segmentations from a random subset of 10 patients for this demonstration"
      ],
      "metadata": {
        "id": "0RA5AqWAej0-"
      }
    },
    {
      "cell_type": "code",
      "source": [
        "from pandas import pandas\n",
        "import random\n",
        "\n",
        "num_sample = 10\n",
        "all_patients = set(cohort_df[\"PatientID\"])\n",
        "sample_patients = random.sample(all_patients,num_sample)\n",
        "selected_df = cohort_df[cohort_df[\"PatientID\"].isin(sample_patients)]\n",
        "\n",
        "display(selected_df)"
      ],
      "metadata": {
        "colab": {
          "base_uri": "https://localhost:8080/",
          "height": 1000
        },
        "id": "elA3NgXcG1bS",
        "outputId": "497338e5-67f8-47f6-a4e5-c6ed4a5235d4"
      },
      "execution_count": 9,
      "outputs": [
        {
          "output_type": "stream",
          "name": "stderr",
          "text": [
            "<ipython-input-9-71080a1db0a1>:6: DeprecationWarning: Sampling from a set deprecated\n",
            "since Python 3.9 and will be removed in a subsequent version.\n",
            "  sample_patients = random.sample(all_patients,num_sample)\n"
          ]
        },
        {
          "output_type": "display_data",
          "data": {
            "text/plain": [
              "       PatientID                                   StudyInstanceUID  \\\n",
              "2      LUNG1-096  1.3.6.1.4.1.32722.99.99.4293513726905508119378...   \n",
              "98     LUNG1-096  1.3.6.1.4.1.32722.99.99.4293513726905508119378...   \n",
              "128    LUNG1-204  1.3.6.1.4.1.32722.99.99.1671472585921516437259...   \n",
              "210    LUNG1-096  1.3.6.1.4.1.32722.99.99.4293513726905508119378...   \n",
              "256    LUNG1-130  1.3.6.1.4.1.32722.99.99.2247831625448944617268...   \n",
              "...          ...                                                ...   \n",
              "50845  LUNG1-022  1.3.6.1.4.1.32722.99.99.2542014380649713731465...   \n",
              "50851  LUNG1-204  1.3.6.1.4.1.32722.99.99.1671472585921516437259...   \n",
              "50903  LUNG1-239  1.3.6.1.4.1.32722.99.99.1027586798959164522298...   \n",
              "50923  LUNG1-096  1.3.6.1.4.1.32722.99.99.4293513726905508119378...   \n",
              "51030  LUNG1-096  1.3.6.1.4.1.32722.99.99.4293513726905508119378...   \n",
              "\n",
              "                                       SeriesInstanceUID    collection_id  \\\n",
              "2      1.3.6.1.4.1.32722.99.99.1755398672387103079081...  nsclc_radiomics   \n",
              "98     1.3.6.1.4.1.32722.99.99.1755398672387103079081...  nsclc_radiomics   \n",
              "128    1.3.6.1.4.1.32722.99.99.2942659339146695041486...  nsclc_radiomics   \n",
              "210    1.3.6.1.4.1.32722.99.99.1755398672387103079081...  nsclc_radiomics   \n",
              "256    1.3.6.1.4.1.32722.99.99.1168237517724326299245...  nsclc_radiomics   \n",
              "...                                                  ...              ...   \n",
              "50845  1.3.6.1.4.1.32722.99.99.8681460013110355772969...  nsclc_radiomics   \n",
              "50851  1.3.6.1.4.1.32722.99.99.2942659339146695041486...  nsclc_radiomics   \n",
              "50903  1.3.6.1.4.1.32722.99.99.4811146435637138599915...  nsclc_radiomics   \n",
              "50923  1.3.6.1.4.1.32722.99.99.1755398672387103079081...  nsclc_radiomics   \n",
              "51030  1.3.6.1.4.1.32722.99.99.1755398672387103079081...  nsclc_radiomics   \n",
              "\n",
              "                                                 gcs_url  \n",
              "2      gs://idc-open-cr/0529b666-4081-4a7b-a2de-21dc0...  \n",
              "98     gs://idc-open-cr/5ff7ad1a-cce5-4d60-a363-75f16...  \n",
              "128    gs://idc-open-cr/9e3ba571-b75d-40c8-8350-f6605...  \n",
              "210    gs://idc-open-cr/23f5e1fe-2ccd-4126-b630-307b3...  \n",
              "256    gs://idc-open-cr/148abc96-b4ad-4480-9516-7d8eb...  \n",
              "...                                                  ...  \n",
              "50845  gs://idc-open-cr/46c4b7d0-43e3-44f4-a792-e83c4...  \n",
              "50851  gs://idc-open-cr/e66c9c2f-7011-4ed7-bb0b-0839d...  \n",
              "50903  gs://idc-open-cr/cb6d4fc1-09e4-4bd8-8ea9-1242d...  \n",
              "50923  gs://idc-open-cr/3d7c1be2-3888-4023-88f8-8a65c...  \n",
              "51030  gs://idc-open-cr/67fbd2d7-25cc-4508-837a-18353...  \n",
              "\n",
              "[1198 rows x 5 columns]"
            ],
            "text/html": [
              "\n",
              "  <div id=\"df-009d8fd6-732b-440c-b3c3-3d5932b60700\">\n",
              "    <div class=\"colab-df-container\">\n",
              "      <div>\n",
              "<style scoped>\n",
              "    .dataframe tbody tr th:only-of-type {\n",
              "        vertical-align: middle;\n",
              "    }\n",
              "\n",
              "    .dataframe tbody tr th {\n",
              "        vertical-align: top;\n",
              "    }\n",
              "\n",
              "    .dataframe thead th {\n",
              "        text-align: right;\n",
              "    }\n",
              "</style>\n",
              "<table border=\"1\" class=\"dataframe\">\n",
              "  <thead>\n",
              "    <tr style=\"text-align: right;\">\n",
              "      <th></th>\n",
              "      <th>PatientID</th>\n",
              "      <th>StudyInstanceUID</th>\n",
              "      <th>SeriesInstanceUID</th>\n",
              "      <th>collection_id</th>\n",
              "      <th>gcs_url</th>\n",
              "    </tr>\n",
              "  </thead>\n",
              "  <tbody>\n",
              "    <tr>\n",
              "      <th>2</th>\n",
              "      <td>LUNG1-096</td>\n",
              "      <td>1.3.6.1.4.1.32722.99.99.4293513726905508119378...</td>\n",
              "      <td>1.3.6.1.4.1.32722.99.99.1755398672387103079081...</td>\n",
              "      <td>nsclc_radiomics</td>\n",
              "      <td>gs://idc-open-cr/0529b666-4081-4a7b-a2de-21dc0...</td>\n",
              "    </tr>\n",
              "    <tr>\n",
              "      <th>98</th>\n",
              "      <td>LUNG1-096</td>\n",
              "      <td>1.3.6.1.4.1.32722.99.99.4293513726905508119378...</td>\n",
              "      <td>1.3.6.1.4.1.32722.99.99.1755398672387103079081...</td>\n",
              "      <td>nsclc_radiomics</td>\n",
              "      <td>gs://idc-open-cr/5ff7ad1a-cce5-4d60-a363-75f16...</td>\n",
              "    </tr>\n",
              "    <tr>\n",
              "      <th>128</th>\n",
              "      <td>LUNG1-204</td>\n",
              "      <td>1.3.6.1.4.1.32722.99.99.1671472585921516437259...</td>\n",
              "      <td>1.3.6.1.4.1.32722.99.99.2942659339146695041486...</td>\n",
              "      <td>nsclc_radiomics</td>\n",
              "      <td>gs://idc-open-cr/9e3ba571-b75d-40c8-8350-f6605...</td>\n",
              "    </tr>\n",
              "    <tr>\n",
              "      <th>210</th>\n",
              "      <td>LUNG1-096</td>\n",
              "      <td>1.3.6.1.4.1.32722.99.99.4293513726905508119378...</td>\n",
              "      <td>1.3.6.1.4.1.32722.99.99.1755398672387103079081...</td>\n",
              "      <td>nsclc_radiomics</td>\n",
              "      <td>gs://idc-open-cr/23f5e1fe-2ccd-4126-b630-307b3...</td>\n",
              "    </tr>\n",
              "    <tr>\n",
              "      <th>256</th>\n",
              "      <td>LUNG1-130</td>\n",
              "      <td>1.3.6.1.4.1.32722.99.99.2247831625448944617268...</td>\n",
              "      <td>1.3.6.1.4.1.32722.99.99.1168237517724326299245...</td>\n",
              "      <td>nsclc_radiomics</td>\n",
              "      <td>gs://idc-open-cr/148abc96-b4ad-4480-9516-7d8eb...</td>\n",
              "    </tr>\n",
              "    <tr>\n",
              "      <th>...</th>\n",
              "      <td>...</td>\n",
              "      <td>...</td>\n",
              "      <td>...</td>\n",
              "      <td>...</td>\n",
              "      <td>...</td>\n",
              "    </tr>\n",
              "    <tr>\n",
              "      <th>50845</th>\n",
              "      <td>LUNG1-022</td>\n",
              "      <td>1.3.6.1.4.1.32722.99.99.2542014380649713731465...</td>\n",
              "      <td>1.3.6.1.4.1.32722.99.99.8681460013110355772969...</td>\n",
              "      <td>nsclc_radiomics</td>\n",
              "      <td>gs://idc-open-cr/46c4b7d0-43e3-44f4-a792-e83c4...</td>\n",
              "    </tr>\n",
              "    <tr>\n",
              "      <th>50851</th>\n",
              "      <td>LUNG1-204</td>\n",
              "      <td>1.3.6.1.4.1.32722.99.99.1671472585921516437259...</td>\n",
              "      <td>1.3.6.1.4.1.32722.99.99.2942659339146695041486...</td>\n",
              "      <td>nsclc_radiomics</td>\n",
              "      <td>gs://idc-open-cr/e66c9c2f-7011-4ed7-bb0b-0839d...</td>\n",
              "    </tr>\n",
              "    <tr>\n",
              "      <th>50903</th>\n",
              "      <td>LUNG1-239</td>\n",
              "      <td>1.3.6.1.4.1.32722.99.99.1027586798959164522298...</td>\n",
              "      <td>1.3.6.1.4.1.32722.99.99.4811146435637138599915...</td>\n",
              "      <td>nsclc_radiomics</td>\n",
              "      <td>gs://idc-open-cr/cb6d4fc1-09e4-4bd8-8ea9-1242d...</td>\n",
              "    </tr>\n",
              "    <tr>\n",
              "      <th>50923</th>\n",
              "      <td>LUNG1-096</td>\n",
              "      <td>1.3.6.1.4.1.32722.99.99.4293513726905508119378...</td>\n",
              "      <td>1.3.6.1.4.1.32722.99.99.1755398672387103079081...</td>\n",
              "      <td>nsclc_radiomics</td>\n",
              "      <td>gs://idc-open-cr/3d7c1be2-3888-4023-88f8-8a65c...</td>\n",
              "    </tr>\n",
              "    <tr>\n",
              "      <th>51030</th>\n",
              "      <td>LUNG1-096</td>\n",
              "      <td>1.3.6.1.4.1.32722.99.99.4293513726905508119378...</td>\n",
              "      <td>1.3.6.1.4.1.32722.99.99.1755398672387103079081...</td>\n",
              "      <td>nsclc_radiomics</td>\n",
              "      <td>gs://idc-open-cr/67fbd2d7-25cc-4508-837a-18353...</td>\n",
              "    </tr>\n",
              "  </tbody>\n",
              "</table>\n",
              "<p>1198 rows × 5 columns</p>\n",
              "</div>\n",
              "      <button class=\"colab-df-convert\" onclick=\"convertToInteractive('df-009d8fd6-732b-440c-b3c3-3d5932b60700')\"\n",
              "              title=\"Convert this dataframe to an interactive table.\"\n",
              "              style=\"display:none;\">\n",
              "        \n",
              "  <svg xmlns=\"http://www.w3.org/2000/svg\" height=\"24px\"viewBox=\"0 0 24 24\"\n",
              "       width=\"24px\">\n",
              "    <path d=\"M0 0h24v24H0V0z\" fill=\"none\"/>\n",
              "    <path d=\"M18.56 5.44l.94 2.06.94-2.06 2.06-.94-2.06-.94-.94-2.06-.94 2.06-2.06.94zm-11 1L8.5 8.5l.94-2.06 2.06-.94-2.06-.94L8.5 2.5l-.94 2.06-2.06.94zm10 10l.94 2.06.94-2.06 2.06-.94-2.06-.94-.94-2.06-.94 2.06-2.06.94z\"/><path d=\"M17.41 7.96l-1.37-1.37c-.4-.4-.92-.59-1.43-.59-.52 0-1.04.2-1.43.59L10.3 9.45l-7.72 7.72c-.78.78-.78 2.05 0 2.83L4 21.41c.39.39.9.59 1.41.59.51 0 1.02-.2 1.41-.59l7.78-7.78 2.81-2.81c.8-.78.8-2.07 0-2.86zM5.41 20L4 18.59l7.72-7.72 1.47 1.35L5.41 20z\"/>\n",
              "  </svg>\n",
              "      </button>\n",
              "      \n",
              "  <style>\n",
              "    .colab-df-container {\n",
              "      display:flex;\n",
              "      flex-wrap:wrap;\n",
              "      gap: 12px;\n",
              "    }\n",
              "\n",
              "    .colab-df-convert {\n",
              "      background-color: #E8F0FE;\n",
              "      border: none;\n",
              "      border-radius: 50%;\n",
              "      cursor: pointer;\n",
              "      display: none;\n",
              "      fill: #1967D2;\n",
              "      height: 32px;\n",
              "      padding: 0 0 0 0;\n",
              "      width: 32px;\n",
              "    }\n",
              "\n",
              "    .colab-df-convert:hover {\n",
              "      background-color: #E2EBFA;\n",
              "      box-shadow: 0px 1px 2px rgba(60, 64, 67, 0.3), 0px 1px 3px 1px rgba(60, 64, 67, 0.15);\n",
              "      fill: #174EA6;\n",
              "    }\n",
              "\n",
              "    [theme=dark] .colab-df-convert {\n",
              "      background-color: #3B4455;\n",
              "      fill: #D2E3FC;\n",
              "    }\n",
              "\n",
              "    [theme=dark] .colab-df-convert:hover {\n",
              "      background-color: #434B5C;\n",
              "      box-shadow: 0px 1px 3px 1px rgba(0, 0, 0, 0.15);\n",
              "      filter: drop-shadow(0px 1px 2px rgba(0, 0, 0, 0.3));\n",
              "      fill: #FFFFFF;\n",
              "    }\n",
              "  </style>\n",
              "\n",
              "      <script>\n",
              "        const buttonEl =\n",
              "          document.querySelector('#df-009d8fd6-732b-440c-b3c3-3d5932b60700 button.colab-df-convert');\n",
              "        buttonEl.style.display =\n",
              "          google.colab.kernel.accessAllowed ? 'block' : 'none';\n",
              "\n",
              "        async function convertToInteractive(key) {\n",
              "          const element = document.querySelector('#df-009d8fd6-732b-440c-b3c3-3d5932b60700');\n",
              "          const dataTable =\n",
              "            await google.colab.kernel.invokeFunction('convertToInteractive',\n",
              "                                                     [key], {});\n",
              "          if (!dataTable) return;\n",
              "\n",
              "          const docLinkHtml = 'Like what you see? Visit the ' +\n",
              "            '<a target=\"_blank\" href=https://colab.research.google.com/notebooks/data_table.ipynb>data table notebook</a>'\n",
              "            + ' to learn more about interactive tables.';\n",
              "          element.innerHTML = '';\n",
              "          dataTable['output_type'] = 'display_data';\n",
              "          await google.colab.output.renderOutput(dataTable, element);\n",
              "          const docLink = document.createElement('div');\n",
              "          docLink.innerHTML = docLinkHtml;\n",
              "          element.appendChild(docLink);\n",
              "        }\n",
              "      </script>\n",
              "    </div>\n",
              "  </div>\n",
              "  "
            ]
          },
          "metadata": {}
        }
      ]
    },
    {
      "cell_type": "markdown",
      "source": [
        "Save URLs into a manifest file for download using `gsutil` from the Google Cloud SDK*. \n",
        "\n",
        "*Note: Google Cloud SDK is pre-installed on Colab, but will need to be installed if downloading directly to your computer.* "
      ],
      "metadata": {
        "id": "jYsDNhEtbmJl"
      }
    },
    {
      "cell_type": "code",
      "source": [
        "%%capture\n",
        "#Save URLs to manifest file\n",
        "selected_df[\"gcs_url\"].to_csv(\"manifest.txt\", header=False, index=False)\n",
        "\n",
        "#Download images to /content/downloaded_cohort_files\n",
        "!rm -rf downloaded_cohort_files && mkdir downloaded_cohort_files\n",
        "!cat manifest.txt | gsutil -m cp -I downloaded_cohort_files"
      ],
      "metadata": {
        "id": "rjTYRU4nZT7c"
      },
      "execution_count": 10,
      "outputs": []
    },
    {
      "cell_type": "markdown",
      "source": [
        "## Install *DICOMSort* to organize downloaded data\n",
        "\n"
      ],
      "metadata": {
        "id": "lNhkCVb1q1pa"
      }
    },
    {
      "cell_type": "code",
      "source": [
        "%%capture\n",
        "!git clone https://github.com/pieper/dicomsort src/dicomsort\n",
        "!pip install -r /content/src/dicomsort/requirements.txt"
      ],
      "metadata": {
        "id": "faSwzPkdqw0i"
      },
      "execution_count": 11,
      "outputs": []
    },
    {
      "cell_type": "markdown",
      "source": [
        "Organize DICOM files by patient ID and modality"
      ],
      "metadata": {
        "id": "egascq-9pwYl"
      }
    },
    {
      "cell_type": "code",
      "source": [
        "%%capture\n",
        "# Run  DICOMSort \n",
        "!python src/dicomsort/dicomsort.py -u /content/downloaded_cohort_files/ /content/organized_cohort_files/dicom/%PatientID/%SOPInstanceUID.dcm\n",
        "\n",
        "# Delete temporary directory for unsorted DICOM data \n",
        "!rm -rf /content/downloaded_cohort_files/"
      ],
      "metadata": {
        "id": "W5DkBwl2pjOX"
      },
      "execution_count": 12,
      "outputs": []
    },
    {
      "cell_type": "markdown",
      "source": [
        "## Add CERR to GNU Octave path and load required Octave packages"
      ],
      "metadata": {
        "id": "mKyPd0L8df0f"
      }
    },
    {
      "cell_type": "code",
      "source": [
        "%octave_push cerr_path"
      ],
      "metadata": {
        "id": "IQpMskA-l4Sk"
      },
      "execution_count": 13,
      "outputs": []
    },
    {
      "cell_type": "code",
      "source": [
        "%%capture\n",
        "%%octave\n",
        "# Load required Octave packages\n",
        "pkg load statistics\n",
        "pkg load image\n",
        "pkg load io\n",
        "\n",
        "# Add CERR to path\n",
        "cd(cerr_path)\n",
        "addToPath2(cerr_path)"
      ],
      "metadata": {
        "id": "CLqUtmD_wMu0"
      },
      "execution_count": 14,
      "outputs": []
    },
    {
      "cell_type": "markdown",
      "source": [
        "## Import DICOM data to CERR's `planC` format"
      ],
      "metadata": {
        "id": "SNCi_TNPdkbZ"
      }
    },
    {
      "cell_type": "code",
      "source": [
        "%%capture\n",
        "%%octave\n",
        "sourceDir = '/content/organized_cohort_files/dicom'  \n",
        "destDir = '/content/organized_cohort_files/cerr/'  \n",
        "zipFlag = 'No';\n",
        "mergeFlag = 'No';\n",
        "singleCerrFileFlag = 'No';\n",
        "init_ML_DICOM;\n",
        "batchConvertWithSubDirs(sourceDir,destDir,zipFlag,mergeFlag,singleCerrFileFlag);"
      ],
      "metadata": {
        "id": "oGgjrQKxf_Zw"
      },
      "execution_count": 15,
      "outputs": []
    },
    {
      "cell_type": "markdown",
      "source": [
        "# Extract radiomics features"
      ],
      "metadata": {
        "id": "W0wDeXAm0Mj3"
      }
    },
    {
      "cell_type": "code",
      "source": [
        "%%octave\n",
        "\n",
        "#Path to radiomics settings\n",
        "#-- Extract CT radiomic features as defined in IBSI-1 \n",
        "paramFileNameIBSI1 = fullfile(getCERRPath,'ModelImplementationLibrary,'RadiomicsModels',...\n",
        "                          'Settings','paramsForIBSI1CtRadiomics.json'); \n",
        "#-- Extract first-order features from IBSI2-compatible filter response maps\n",
        "paramFileNameIBSI2 = fullfile(getCERRPath,'ModelImplementationLibrary','RadiomicsModels',...\n",
        "                          'Settings','paramsForCtRadiomicsWithIBSI2Filters.json');\n",
        "\n",
        "\n",
        "strName = 'GTV-1';\n",
        "\n",
        "#Extract features\n",
        "destDir = '/content/organized_cohort_files/cerr/'  \n",
        "[featIBSI1S,err1C] = batchExtractRadiomics(destDir,paramFileNameIBSI1)\n",
        "[featIBSI2S,err2C] = batchExtractRadiomics(destDir,paramFileNameIBSI2);\n",
        "\n",
        "\n",
        "#Write to CSV\n",
        "outputFile1 = '/content/radiomicFeaturesIbsi1.csv'; \n",
        "outputFile2 = '/content/radiomicFeaturesIbsi2.csv'; \n",
        "selectField = ['struct_',strName];\n",
        "selectField = strrep(selectField,'-','_');\n",
        "featS = featIBSI1S.(selectField);\n",
        "writeFeaturesToCSV(featS,outputFile1);\n",
        "featS = featIBSI2S.(selectField);\n",
        "writeFeaturesToCSV(featS,outputFile2);"
      ],
      "metadata": {
        "id": "3rmhZ_2Fn7L3"
      },
      "execution_count": 16,
      "outputs": []
    },
    {
      "cell_type": "markdown",
      "source": [
        "#### View results"
      ],
      "metadata": {
        "id": "v2EMyf-Fy1w1"
      }
    },
    {
      "cell_type": "code",
      "source": [
        "%octave_pull outputFile1 outputFile2"
      ],
      "metadata": {
        "id": "sAvfMrDjMe6i"
      },
      "execution_count": 17,
      "outputs": []
    },
    {
      "cell_type": "code",
      "source": [
        "import pandas as pd\n",
        "\n",
        "# Display IBSI1-compatible radiomics \n",
        "df = pd.read_csv(outputFile1)\n",
        "df.head(10) # shows top 10 rows"
      ],
      "metadata": {
        "id": "lnsTkIQwMZH9",
        "colab": {
          "base_uri": "https://localhost:8080/",
          "height": 174
        },
        "outputId": "301f7956-b194-4118-e713-f8fa2f64cf5a"
      },
      "execution_count": 18,
      "outputs": [
        {
          "output_type": "execute_result",
          "data": {
            "text/plain": [
              "    id  Shape_majorAxis  Shape_minorAxis  Shape_leastAxis  Shape_flatness  \\\n",
              "0  Pt1           2.0522           1.9696            1.325         0.64562   \n",
              "\n",
              "   Shape_elongation  Shape_max3dDiameter  Shape_max2dDiameterAxialPlane  \\\n",
              "0           0.95973               2.7423                         2.2718   \n",
              "\n",
              "   Shape_max2dDiameterSagittalPlane  Shape_max2dDiameterCoronalPlane  ...  \\\n",
              "0                            2.3356                           2.4107  ...   \n",
              "\n",
              "   Original_ivhFeaturesS_MOCx90  Original_ivhFeaturesS_Vx10  \\\n",
              "0                       -113.24                     0.96733   \n",
              "\n",
              "   Original_ivhFeaturesS_Vx20  Original_ivhFeaturesS_Vx30  \\\n",
              "0                     0.92187                       0.875   \n",
              "\n",
              "   Original_ivhFeaturesS_Vx40  Original_ivhFeaturesS_Vx50  \\\n",
              "0                     0.83097                     0.78196   \n",
              "\n",
              "   Original_ivhFeaturesS_Vx60  Original_ivhFeaturesS_Vx70  \\\n",
              "0                     0.70526                     0.61577   \n",
              "\n",
              "   Original_ivhFeaturesS_Vx80  Original_ivhFeaturesS_Vx90  \n",
              "0                     0.52557                     0.32244  \n",
              "\n",
              "[1 rows x 333 columns]"
            ],
            "text/html": [
              "\n",
              "  <div id=\"df-728751c8-161f-4a9d-bbd8-b72b9c0f8bc3\">\n",
              "    <div class=\"colab-df-container\">\n",
              "      <div>\n",
              "<style scoped>\n",
              "    .dataframe tbody tr th:only-of-type {\n",
              "        vertical-align: middle;\n",
              "    }\n",
              "\n",
              "    .dataframe tbody tr th {\n",
              "        vertical-align: top;\n",
              "    }\n",
              "\n",
              "    .dataframe thead th {\n",
              "        text-align: right;\n",
              "    }\n",
              "</style>\n",
              "<table border=\"1\" class=\"dataframe\">\n",
              "  <thead>\n",
              "    <tr style=\"text-align: right;\">\n",
              "      <th></th>\n",
              "      <th>id</th>\n",
              "      <th>Shape_majorAxis</th>\n",
              "      <th>Shape_minorAxis</th>\n",
              "      <th>Shape_leastAxis</th>\n",
              "      <th>Shape_flatness</th>\n",
              "      <th>Shape_elongation</th>\n",
              "      <th>Shape_max3dDiameter</th>\n",
              "      <th>Shape_max2dDiameterAxialPlane</th>\n",
              "      <th>Shape_max2dDiameterSagittalPlane</th>\n",
              "      <th>Shape_max2dDiameterCoronalPlane</th>\n",
              "      <th>...</th>\n",
              "      <th>Original_ivhFeaturesS_MOCx90</th>\n",
              "      <th>Original_ivhFeaturesS_Vx10</th>\n",
              "      <th>Original_ivhFeaturesS_Vx20</th>\n",
              "      <th>Original_ivhFeaturesS_Vx30</th>\n",
              "      <th>Original_ivhFeaturesS_Vx40</th>\n",
              "      <th>Original_ivhFeaturesS_Vx50</th>\n",
              "      <th>Original_ivhFeaturesS_Vx60</th>\n",
              "      <th>Original_ivhFeaturesS_Vx70</th>\n",
              "      <th>Original_ivhFeaturesS_Vx80</th>\n",
              "      <th>Original_ivhFeaturesS_Vx90</th>\n",
              "    </tr>\n",
              "  </thead>\n",
              "  <tbody>\n",
              "    <tr>\n",
              "      <th>0</th>\n",
              "      <td>Pt1</td>\n",
              "      <td>2.0522</td>\n",
              "      <td>1.9696</td>\n",
              "      <td>1.325</td>\n",
              "      <td>0.64562</td>\n",
              "      <td>0.95973</td>\n",
              "      <td>2.7423</td>\n",
              "      <td>2.2718</td>\n",
              "      <td>2.3356</td>\n",
              "      <td>2.4107</td>\n",
              "      <td>...</td>\n",
              "      <td>-113.24</td>\n",
              "      <td>0.96733</td>\n",
              "      <td>0.92187</td>\n",
              "      <td>0.875</td>\n",
              "      <td>0.83097</td>\n",
              "      <td>0.78196</td>\n",
              "      <td>0.70526</td>\n",
              "      <td>0.61577</td>\n",
              "      <td>0.52557</td>\n",
              "      <td>0.32244</td>\n",
              "    </tr>\n",
              "  </tbody>\n",
              "</table>\n",
              "<p>1 rows × 333 columns</p>\n",
              "</div>\n",
              "      <button class=\"colab-df-convert\" onclick=\"convertToInteractive('df-728751c8-161f-4a9d-bbd8-b72b9c0f8bc3')\"\n",
              "              title=\"Convert this dataframe to an interactive table.\"\n",
              "              style=\"display:none;\">\n",
              "        \n",
              "  <svg xmlns=\"http://www.w3.org/2000/svg\" height=\"24px\"viewBox=\"0 0 24 24\"\n",
              "       width=\"24px\">\n",
              "    <path d=\"M0 0h24v24H0V0z\" fill=\"none\"/>\n",
              "    <path d=\"M18.56 5.44l.94 2.06.94-2.06 2.06-.94-2.06-.94-.94-2.06-.94 2.06-2.06.94zm-11 1L8.5 8.5l.94-2.06 2.06-.94-2.06-.94L8.5 2.5l-.94 2.06-2.06.94zm10 10l.94 2.06.94-2.06 2.06-.94-2.06-.94-.94-2.06-.94 2.06-2.06.94z\"/><path d=\"M17.41 7.96l-1.37-1.37c-.4-.4-.92-.59-1.43-.59-.52 0-1.04.2-1.43.59L10.3 9.45l-7.72 7.72c-.78.78-.78 2.05 0 2.83L4 21.41c.39.39.9.59 1.41.59.51 0 1.02-.2 1.41-.59l7.78-7.78 2.81-2.81c.8-.78.8-2.07 0-2.86zM5.41 20L4 18.59l7.72-7.72 1.47 1.35L5.41 20z\"/>\n",
              "  </svg>\n",
              "      </button>\n",
              "      \n",
              "  <style>\n",
              "    .colab-df-container {\n",
              "      display:flex;\n",
              "      flex-wrap:wrap;\n",
              "      gap: 12px;\n",
              "    }\n",
              "\n",
              "    .colab-df-convert {\n",
              "      background-color: #E8F0FE;\n",
              "      border: none;\n",
              "      border-radius: 50%;\n",
              "      cursor: pointer;\n",
              "      display: none;\n",
              "      fill: #1967D2;\n",
              "      height: 32px;\n",
              "      padding: 0 0 0 0;\n",
              "      width: 32px;\n",
              "    }\n",
              "\n",
              "    .colab-df-convert:hover {\n",
              "      background-color: #E2EBFA;\n",
              "      box-shadow: 0px 1px 2px rgba(60, 64, 67, 0.3), 0px 1px 3px 1px rgba(60, 64, 67, 0.15);\n",
              "      fill: #174EA6;\n",
              "    }\n",
              "\n",
              "    [theme=dark] .colab-df-convert {\n",
              "      background-color: #3B4455;\n",
              "      fill: #D2E3FC;\n",
              "    }\n",
              "\n",
              "    [theme=dark] .colab-df-convert:hover {\n",
              "      background-color: #434B5C;\n",
              "      box-shadow: 0px 1px 3px 1px rgba(0, 0, 0, 0.15);\n",
              "      filter: drop-shadow(0px 1px 2px rgba(0, 0, 0, 0.3));\n",
              "      fill: #FFFFFF;\n",
              "    }\n",
              "  </style>\n",
              "\n",
              "      <script>\n",
              "        const buttonEl =\n",
              "          document.querySelector('#df-728751c8-161f-4a9d-bbd8-b72b9c0f8bc3 button.colab-df-convert');\n",
              "        buttonEl.style.display =\n",
              "          google.colab.kernel.accessAllowed ? 'block' : 'none';\n",
              "\n",
              "        async function convertToInteractive(key) {\n",
              "          const element = document.querySelector('#df-728751c8-161f-4a9d-bbd8-b72b9c0f8bc3');\n",
              "          const dataTable =\n",
              "            await google.colab.kernel.invokeFunction('convertToInteractive',\n",
              "                                                     [key], {});\n",
              "          if (!dataTable) return;\n",
              "\n",
              "          const docLinkHtml = 'Like what you see? Visit the ' +\n",
              "            '<a target=\"_blank\" href=https://colab.research.google.com/notebooks/data_table.ipynb>data table notebook</a>'\n",
              "            + ' to learn more about interactive tables.';\n",
              "          element.innerHTML = '';\n",
              "          dataTable['output_type'] = 'display_data';\n",
              "          await google.colab.output.renderOutput(dataTable, element);\n",
              "          const docLink = document.createElement('div');\n",
              "          docLink.innerHTML = docLinkHtml;\n",
              "          element.appendChild(docLink);\n",
              "        }\n",
              "      </script>\n",
              "    </div>\n",
              "  </div>\n",
              "  "
            ]
          },
          "metadata": {},
          "execution_count": 19
        }
      ]
    },
    {
      "cell_type": "code",
      "source": [
        "# Display first-order statsitics from IBSI2-compatible filter responses\n",
        "df = pd.read_csv(outputFile2)\n",
        "# shows top 10 rows\n",
        "df.head(10)"
      ],
      "metadata": {
        "colab": {
          "base_uri": "https://localhost:8080/",
          "height": 174
        },
        "id": "Bk4vF4mH2zsQ",
        "outputId": "7879d0a8-8b82-4d59-be11-664a2775d1e9"
      },
      "execution_count": 20,
      "outputs": [
        {
          "output_type": "execute_result",
          "data": {
            "text/plain": [
              "    id  Shape_majorAxis  Shape_minorAxis  Shape_leastAxis  Shape_flatness  \\\n",
              "0  Pt1           2.1212           2.0707           1.4201         0.66947   \n",
              "\n",
              "   Shape_elongation  Shape_max3dDiameter  Shape_max2dDiameterAxialPlane  \\\n",
              "0            0.9762               2.8231                         2.3707   \n",
              "\n",
              "   Shape_max2dDiameterSagittalPlane  Shape_max2dDiameterCoronalPlane  ...  \\\n",
              "0                            2.3707                           2.4352  ...   \n",
              "\n",
              "   Gabor_voxSz111mm_Sigma5mm_AR1_5_wavLen2mm_OrientAvg_22_54567_590112_5135157_5180202_5225247_5270292_5315337_5360_firstOrderS_totalEnergy  \\\n",
              "0                                        633710000.0                                                                                          \n",
              "\n",
              "   Gabor_voxSz111mm_Sigma5mm_AR1_5_wavLen2mm_OrientAvg_22_54567_590112_5135157_5180202_5225247_5270292_5315337_5360_firstOrderS_meanAbsDev  \\\n",
              "0                                             72.594                                                                                         \n",
              "\n",
              "   Gabor_voxSz111mm_Sigma5mm_AR1_5_wavLen2mm_OrientAvg_22_54567_590112_5135157_5180202_5225247_5270292_5315337_5360_firstOrderS_medianAbsDev  \\\n",
              "0                                             72.174                                                                                           \n",
              "\n",
              "   Gabor_voxSz111mm_Sigma5mm_AR1_5_wavLen2mm_OrientAvg_22_54567_590112_5135157_5180202_5225247_5270292_5315337_5360_firstOrderS_P10  \\\n",
              "0                                             263.63                                                                                  \n",
              "\n",
              "   Gabor_voxSz111mm_Sigma5mm_AR1_5_wavLen2mm_OrientAvg_22_54567_590112_5135157_5180202_5225247_5270292_5315337_5360_firstOrderS_P90  \\\n",
              "0                                             497.16                                                                                  \n",
              "\n",
              "   Gabor_voxSz111mm_Sigma5mm_AR1_5_wavLen2mm_OrientAvg_22_54567_590112_5135157_5180202_5225247_5270292_5315337_5360_firstOrderS_robustMeanAbsDev  \\\n",
              "0                                             50.073                                                                                               \n",
              "\n",
              "   Gabor_voxSz111mm_Sigma5mm_AR1_5_wavLen2mm_OrientAvg_22_54567_590112_5135157_5180202_5225247_5270292_5315337_5360_firstOrderS_robustMedianAbsDev  \\\n",
              "0                                              49.98                                                                                                 \n",
              "\n",
              "   Gabor_voxSz111mm_Sigma5mm_AR1_5_wavLen2mm_OrientAvg_22_54567_590112_5135157_5180202_5225247_5270292_5315337_5360_firstOrderS_interQuartileRange  \\\n",
              "0                                             118.45                                                                                                 \n",
              "\n",
              "   Gabor_voxSz111mm_Sigma5mm_AR1_5_wavLen2mm_OrientAvg_22_54567_590112_5135157_5180202_5225247_5270292_5315337_5360_firstOrderS_coeffDispersion  \\\n",
              "0                                            0.15005                                                                                              \n",
              "\n",
              "   Gabor_voxSz111mm_Sigma5mm_AR1_5_wavLen2mm_OrientAvg_22_54567_590112_5135157_5180202_5225247_5270292_5315337_5360_firstOrderS_coeffVariation  \n",
              "0                                            0.23639                                                                                            \n",
              "\n",
              "[1 rows x 106 columns]"
            ],
            "text/html": [
              "\n",
              "  <div id=\"df-743ba7bf-6268-484a-90c1-95849af49590\">\n",
              "    <div class=\"colab-df-container\">\n",
              "      <div>\n",
              "<style scoped>\n",
              "    .dataframe tbody tr th:only-of-type {\n",
              "        vertical-align: middle;\n",
              "    }\n",
              "\n",
              "    .dataframe tbody tr th {\n",
              "        vertical-align: top;\n",
              "    }\n",
              "\n",
              "    .dataframe thead th {\n",
              "        text-align: right;\n",
              "    }\n",
              "</style>\n",
              "<table border=\"1\" class=\"dataframe\">\n",
              "  <thead>\n",
              "    <tr style=\"text-align: right;\">\n",
              "      <th></th>\n",
              "      <th>id</th>\n",
              "      <th>Shape_majorAxis</th>\n",
              "      <th>Shape_minorAxis</th>\n",
              "      <th>Shape_leastAxis</th>\n",
              "      <th>Shape_flatness</th>\n",
              "      <th>Shape_elongation</th>\n",
              "      <th>Shape_max3dDiameter</th>\n",
              "      <th>Shape_max2dDiameterAxialPlane</th>\n",
              "      <th>Shape_max2dDiameterSagittalPlane</th>\n",
              "      <th>Shape_max2dDiameterCoronalPlane</th>\n",
              "      <th>...</th>\n",
              "      <th>Gabor_voxSz111mm_Sigma5mm_AR1_5_wavLen2mm_OrientAvg_22_54567_590112_5135157_5180202_5225247_5270292_5315337_5360_firstOrderS_totalEnergy</th>\n",
              "      <th>Gabor_voxSz111mm_Sigma5mm_AR1_5_wavLen2mm_OrientAvg_22_54567_590112_5135157_5180202_5225247_5270292_5315337_5360_firstOrderS_meanAbsDev</th>\n",
              "      <th>Gabor_voxSz111mm_Sigma5mm_AR1_5_wavLen2mm_OrientAvg_22_54567_590112_5135157_5180202_5225247_5270292_5315337_5360_firstOrderS_medianAbsDev</th>\n",
              "      <th>Gabor_voxSz111mm_Sigma5mm_AR1_5_wavLen2mm_OrientAvg_22_54567_590112_5135157_5180202_5225247_5270292_5315337_5360_firstOrderS_P10</th>\n",
              "      <th>Gabor_voxSz111mm_Sigma5mm_AR1_5_wavLen2mm_OrientAvg_22_54567_590112_5135157_5180202_5225247_5270292_5315337_5360_firstOrderS_P90</th>\n",
              "      <th>Gabor_voxSz111mm_Sigma5mm_AR1_5_wavLen2mm_OrientAvg_22_54567_590112_5135157_5180202_5225247_5270292_5315337_5360_firstOrderS_robustMeanAbsDev</th>\n",
              "      <th>Gabor_voxSz111mm_Sigma5mm_AR1_5_wavLen2mm_OrientAvg_22_54567_590112_5135157_5180202_5225247_5270292_5315337_5360_firstOrderS_robustMedianAbsDev</th>\n",
              "      <th>Gabor_voxSz111mm_Sigma5mm_AR1_5_wavLen2mm_OrientAvg_22_54567_590112_5135157_5180202_5225247_5270292_5315337_5360_firstOrderS_interQuartileRange</th>\n",
              "      <th>Gabor_voxSz111mm_Sigma5mm_AR1_5_wavLen2mm_OrientAvg_22_54567_590112_5135157_5180202_5225247_5270292_5315337_5360_firstOrderS_coeffDispersion</th>\n",
              "      <th>Gabor_voxSz111mm_Sigma5mm_AR1_5_wavLen2mm_OrientAvg_22_54567_590112_5135157_5180202_5225247_5270292_5315337_5360_firstOrderS_coeffVariation</th>\n",
              "    </tr>\n",
              "  </thead>\n",
              "  <tbody>\n",
              "    <tr>\n",
              "      <th>0</th>\n",
              "      <td>Pt1</td>\n",
              "      <td>2.1212</td>\n",
              "      <td>2.0707</td>\n",
              "      <td>1.4201</td>\n",
              "      <td>0.66947</td>\n",
              "      <td>0.9762</td>\n",
              "      <td>2.8231</td>\n",
              "      <td>2.3707</td>\n",
              "      <td>2.3707</td>\n",
              "      <td>2.4352</td>\n",
              "      <td>...</td>\n",
              "      <td>633710000.0</td>\n",
              "      <td>72.594</td>\n",
              "      <td>72.174</td>\n",
              "      <td>263.63</td>\n",
              "      <td>497.16</td>\n",
              "      <td>50.073</td>\n",
              "      <td>49.98</td>\n",
              "      <td>118.45</td>\n",
              "      <td>0.15005</td>\n",
              "      <td>0.23639</td>\n",
              "    </tr>\n",
              "  </tbody>\n",
              "</table>\n",
              "<p>1 rows × 106 columns</p>\n",
              "</div>\n",
              "      <button class=\"colab-df-convert\" onclick=\"convertToInteractive('df-743ba7bf-6268-484a-90c1-95849af49590')\"\n",
              "              title=\"Convert this dataframe to an interactive table.\"\n",
              "              style=\"display:none;\">\n",
              "        \n",
              "  <svg xmlns=\"http://www.w3.org/2000/svg\" height=\"24px\"viewBox=\"0 0 24 24\"\n",
              "       width=\"24px\">\n",
              "    <path d=\"M0 0h24v24H0V0z\" fill=\"none\"/>\n",
              "    <path d=\"M18.56 5.44l.94 2.06.94-2.06 2.06-.94-2.06-.94-.94-2.06-.94 2.06-2.06.94zm-11 1L8.5 8.5l.94-2.06 2.06-.94-2.06-.94L8.5 2.5l-.94 2.06-2.06.94zm10 10l.94 2.06.94-2.06 2.06-.94-2.06-.94-.94-2.06-.94 2.06-2.06.94z\"/><path d=\"M17.41 7.96l-1.37-1.37c-.4-.4-.92-.59-1.43-.59-.52 0-1.04.2-1.43.59L10.3 9.45l-7.72 7.72c-.78.78-.78 2.05 0 2.83L4 21.41c.39.39.9.59 1.41.59.51 0 1.02-.2 1.41-.59l7.78-7.78 2.81-2.81c.8-.78.8-2.07 0-2.86zM5.41 20L4 18.59l7.72-7.72 1.47 1.35L5.41 20z\"/>\n",
              "  </svg>\n",
              "      </button>\n",
              "      \n",
              "  <style>\n",
              "    .colab-df-container {\n",
              "      display:flex;\n",
              "      flex-wrap:wrap;\n",
              "      gap: 12px;\n",
              "    }\n",
              "\n",
              "    .colab-df-convert {\n",
              "      background-color: #E8F0FE;\n",
              "      border: none;\n",
              "      border-radius: 50%;\n",
              "      cursor: pointer;\n",
              "      display: none;\n",
              "      fill: #1967D2;\n",
              "      height: 32px;\n",
              "      padding: 0 0 0 0;\n",
              "      width: 32px;\n",
              "    }\n",
              "\n",
              "    .colab-df-convert:hover {\n",
              "      background-color: #E2EBFA;\n",
              "      box-shadow: 0px 1px 2px rgba(60, 64, 67, 0.3), 0px 1px 3px 1px rgba(60, 64, 67, 0.15);\n",
              "      fill: #174EA6;\n",
              "    }\n",
              "\n",
              "    [theme=dark] .colab-df-convert {\n",
              "      background-color: #3B4455;\n",
              "      fill: #D2E3FC;\n",
              "    }\n",
              "\n",
              "    [theme=dark] .colab-df-convert:hover {\n",
              "      background-color: #434B5C;\n",
              "      box-shadow: 0px 1px 3px 1px rgba(0, 0, 0, 0.15);\n",
              "      filter: drop-shadow(0px 1px 2px rgba(0, 0, 0, 0.3));\n",
              "      fill: #FFFFFF;\n",
              "    }\n",
              "  </style>\n",
              "\n",
              "      <script>\n",
              "        const buttonEl =\n",
              "          document.querySelector('#df-743ba7bf-6268-484a-90c1-95849af49590 button.colab-df-convert');\n",
              "        buttonEl.style.display =\n",
              "          google.colab.kernel.accessAllowed ? 'block' : 'none';\n",
              "\n",
              "        async function convertToInteractive(key) {\n",
              "          const element = document.querySelector('#df-743ba7bf-6268-484a-90c1-95849af49590');\n",
              "          const dataTable =\n",
              "            await google.colab.kernel.invokeFunction('convertToInteractive',\n",
              "                                                     [key], {});\n",
              "          if (!dataTable) return;\n",
              "\n",
              "          const docLinkHtml = 'Like what you see? Visit the ' +\n",
              "            '<a target=\"_blank\" href=https://colab.research.google.com/notebooks/data_table.ipynb>data table notebook</a>'\n",
              "            + ' to learn more about interactive tables.';\n",
              "          element.innerHTML = '';\n",
              "          dataTable['output_type'] = 'display_data';\n",
              "          await google.colab.output.renderOutput(dataTable, element);\n",
              "          const docLink = document.createElement('div');\n",
              "          docLink.innerHTML = docLinkHtml;\n",
              "          element.appendChild(docLink);\n",
              "        }\n",
              "      </script>\n",
              "    </div>\n",
              "  </div>\n",
              "  "
            ]
          },
          "metadata": {},
          "execution_count": 21
        }
      ]
    }
  ]
}
