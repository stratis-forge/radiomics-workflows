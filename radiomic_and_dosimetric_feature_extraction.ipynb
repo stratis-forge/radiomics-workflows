{
  "nbformat": 4,
  "nbformat_minor": 0,
  "metadata": {
    "colab": {
      "name": "demo_radiomic_and_dosimetric_feature_extraction.ipynb",
      "provenance": [],
      "collapsed_sections": [],
      "toc_visible": true,
      "include_colab_link": true
    },
    "kernelspec": {
      "name": "python3",
      "display_name": "Python 3"
    }
  },
  "cells": [
    {
      "cell_type": "markdown",
      "metadata": {
        "id": "view-in-github",
        "colab_type": "text"
      },
      "source": [
        "<a href=\"https://colab.research.google.com/github/cerr/CERR/blob/octave_dev/Jupyter_Notebooks/demo_radiomic_and_dosimetric_feature_extraction.ipynb\" target=\"_parent\"><img src=\"https://colab.research.google.com/assets/colab-badge.svg\" alt=\"Open In Colab\"/></a>"
      ]
    },
    {
      "cell_type": "markdown",
      "metadata": {
        "id": "5N-G0tUkkNrN",
        "colab_type": "text"
      },
      "source": [
        "#  Example of radiomic & dosimetric feature calculation using CERR"
      ]
    },
    {
      "cell_type": "markdown",
      "metadata": {
        "id": "P6t1PtYSklan",
        "colab_type": "text"
      },
      "source": [
        "### Install Octave 5.2 and required packages"
      ]
    },
    {
      "cell_type": "code",
      "metadata": {
        "id": "58KaG3O-iOYg",
        "colab_type": "code",
        "colab": {}
      },
      "source": [
        "%%capture\n",
        "!apt-get update\n",
        "!apt-get install gcc g++ gfortran make libblas-dev liblapack-dev libpcre3-dev libarpack2-dev libcurl4-gnutls-dev epstool libfftw3-dev transfig libfltk1.3-dev libfontconfig1-dev libfreetype6-dev libgl2ps-dev libglpk-dev libreadline-dev gnuplot-x11 libgraphicsmagick++1-dev libhdf5-serial-dev openjdk-8-jdk libsndfile1-dev llvm-dev lpr texinfo libgl1-mesa-dev libosmesa6-dev pstoedit portaudio19-dev libqhull-dev libqrupdate-dev libqscintilla2-dev libsuitesparse-dev texlive texlive-generic-recommended libxft-dev zlib1g-dev autoconf automake bison flex gperf gzip icoutils librsvg2-bin libtool perl rsync tar qtbase5-dev qttools5-dev qttools5-dev-tools libqscintilla2-qt5-dev wget git libsundials-dev gnuplot x11-apps\n",
        "!pip install octave_kernel\n",
        "!pip install oct2py"
      ],
      "execution_count": 1,
      "outputs": []
    },
    {
      "cell_type": "code",
      "metadata": {
        "id": "nlZwkNT2YiYK",
        "colab_type": "code",
        "colab": {}
      },
      "source": [
        "%%capture\n",
        "%%bash\n",
        "LOCATION=$(curl -s https://api.github.com/repos/cerr/octave-colab/releases/latest \\\n",
        "| grep \"tag_name\" \\\n",
        "| awk '{print \"https://github.com/cerr/octave-colab/archive/\" substr($2, 2, length($2)-3) \".zip\"}') \\\n",
        "; curl -L -o octavecolab.zip $LOCATION\n",
        "\n",
        "unzip octavecolab.zip -d octavecolab\n",
        "releaseDir=$(ls octavecolab)\n",
        "tar xzvf \"octavecolab/${releaseDir}/octavecolab.tar.gz\""
      ],
      "execution_count": 2,
      "outputs": []
    },
    {
      "cell_type": "code",
      "metadata": {
        "id": "HQQoSTWPYmMX",
        "colab_type": "code",
        "colab": {}
      },
      "source": [
        "import os\n",
        "os.environ['OCTAVE_EXECUTABLE'] = '/content/octavecolab/bin/octave-cli'\n",
        "os.environ['PATH'] = '/content/octavecolab/bin:' + os.environ['PATH']"
      ],
      "execution_count": 3,
      "outputs": []
    },
    {
      "cell_type": "code",
      "metadata": {
        "id": "6gxGsNOmYm97",
        "colab_type": "code",
        "colab": {}
      },
      "source": [
        "%%capture\n",
        "%load_ext oct2py.ipython\n",
        "\n",
        "!apt install octave liboctave-dev\n",
        "!wget https://nchc.dl.sourceforge.net/project/octave/Octave%20Forge%20Packages/Individual%20Package%20Releases/image-2.12.0.tar.gz\n",
        "!wget https://nchc.dl.sourceforge.net/project/octave/Octave%20Forge%20Packages/Individual%20Package%20Releases/io-2.6.1.tar.gz\n",
        "!wget https://nchc.dl.sourceforge.net/project/octave/Octave%20Forge%20Packages/Individual%20Package%20Releases/statistics-1.4.2.tar.gz\n",
        "\n",
        "!octave --eval \"pkg install image-2.12.0.tar.gz\"\n",
        "!octave --eval \"pkg install io-2.6.1.tar.gz\"\n",
        "!octave --eval \"pkg install statistics-1.4.2.tar.gz\""
      ],
      "execution_count": 4,
      "outputs": []
    },
    {
      "cell_type": "markdown",
      "metadata": {
        "id": "bo-i2uKqk_rB",
        "colab_type": "text"
      },
      "source": [
        "\n",
        "### Download CERR\n"
      ]
    },
    {
      "cell_type": "code",
      "metadata": {
        "id": "Al7QbpSThN9x",
        "colab_type": "code",
        "colab": {}
      },
      "source": [
        "%%capture\n",
        "!git clone https://github.com/cerr/CERR.git\n",
        "%cd /content/CERR\n",
        "!git checkout octave_dev\n",
        "%cd .."
      ],
      "execution_count": 5,
      "outputs": []
    },
    {
      "cell_type": "markdown",
      "metadata": {
        "id": "B-nYrSGNlEzs",
        "colab_type": "text"
      },
      "source": [
        "### Add Octave packages and CERR to path"
      ]
    },
    {
      "cell_type": "code",
      "metadata": {
        "id": "453d72YCJ3CM",
        "colab_type": "code",
        "colab": {}
      },
      "source": [
        "%%octave\n",
        "pkg load image\n",
        "pkg load io\n",
        "pkg load statistics"
      ],
      "execution_count": 6,
      "outputs": []
    },
    {
      "cell_type": "code",
      "metadata": {
        "id": "eAdvDWdRxY5v",
        "colab_type": "code",
        "colab": {
          "base_uri": "https://localhost:8080/",
          "height": 0
        },
        "outputId": "df76b7c5-99fd-42dd-9e3f-c51c97e40c89"
      },
      "source": [
        "#Add CERR-Octave to path\n",
        "%%octave\n",
        "cerrPath = '/content/CERR';\n",
        "addpath(genpath(cerrPath))"
      ],
      "execution_count": 7,
      "outputs": [
        {
          "output_type": "display_data",
          "data": {
            "text/plain": [
              "warning: function /content/CERR/Unit_Testing/matlab_xunit_3/matlab_xunit/xunit/runtests.m shadows a core library function"
            ]
          },
          "metadata": {
            "tags": []
          }
        },
        {
          "output_type": "display_data",
          "data": {
            "text/plain": [
              "warning: function /content/CERR/IMRTP/recompDose/MC/setfield.m shadows a core library function"
            ]
          },
          "metadata": {
            "tags": []
          }
        },
        {
          "output_type": "display_data",
          "data": {
            "text/plain": [
              "warning: function /content/CERR/CERR_core/PlanAnalysis/DCE-MR analysis/Toft's model/chop.m shadows a core library function"
            ]
          },
          "metadata": {
            "tags": []
          }
        }
      ]
    },
    {
      "cell_type": "markdown",
      "metadata": {
        "id": "C02qX1CzPITI",
        "colab_type": "text"
      },
      "source": [
        "### Read radiomics calculation settings"
      ]
    },
    {
      "cell_type": "code",
      "metadata": {
        "id": "XeQGonF2iWG3",
        "colab_type": "code",
        "colab": {
          "base_uri": "https://localhost:8080/",
          "height": 102
        },
        "outputId": "ed54799b-dbb9-405d-922d-4ea41d9314d5"
      },
      "source": [
        "%%octave\n",
        "sampleData = '/content/CERR/Unit_Testing/data_for_cerr_tests/CERR_plans/head_neck_ex1_20may03.mat.bz2';\n",
        "planC = loadPlanC(sampleData, tempdir);\n",
        "planC = updatePlanFields(planC);\n",
        "planC = quality_assure_planC(sampleData, planC);\n",
        "\n",
        "sampleParam = '/content/CERR/Jupyter_Notebooks/demoParams.json';\n",
        "paramS = getRadiomicsParamTemplate(sampleParam);"
      ],
      "execution_count": 8,
      "outputs": [
        {
          "output_type": "display_data",
          "data": {
            "text/plain": [
              "warning: strmatch is obsolete; use strncmp or strcmp instead"
            ]
          },
          "metadata": {
            "tags": []
          }
        },
        {
          "output_type": "display_data",
          "data": {
            "text/plain": [
              "CERR>>  Decompressing head_neck_ex1_20may03.mat.bz2..."
            ]
          },
          "metadata": {
            "tags": []
          }
        },
        {
          "output_type": "display_data",
          "data": {
            "text/plain": [
              ""
            ]
          },
          "metadata": {
            "tags": []
          }
        },
        {
          "output_type": "display_data",
          "data": {
            "text/plain": [
              "ans = 0"
            ]
          },
          "metadata": {
            "tags": []
          }
        },
        {
          "output_type": "display_data",
          "data": {
            "text/plain": [
              "CERR>>  Loading head_neck_ex1_20may03.mat.bz2..."
            ]
          },
          "metadata": {
            "tags": []
          }
        },
        {
          "output_type": "display_data",
          "data": {
            "text/plain": [
              "CERR>>  Loaded head_neck_ex1_20may03.mat.bz2..."
            ]
          },
          "metadata": {
            "tags": []
          }
        }
      ]
    },
    {
      "cell_type": "markdown",
      "metadata": {
        "id": "E_iqpNT1PQXg",
        "colab_type": "text"
      },
      "source": [
        "### Run feature calculation"
      ]
    },
    {
      "cell_type": "code",
      "metadata": {
        "id": "Qgh5cXA0jGWJ",
        "colab_type": "code",
        "colab": {}
      },
      "source": [
        "%%octave\n",
        "indexS = planC{end};\n",
        "strC = {planC{indexS.structures}.structureName};\n",
        "strName = paramS.structuresC{1};\n",
        "structNum = getMatchingIndex(strName,strC,'exact');\n",
        "scanNum = getStructureAssociatedScan(structNum,planC);\n",
        "doseNum = 1;\n",
        "binWidth = 0.01;\n",
        "\n",
        "structFieldName = ['struct_',repSpaceHyp(strName)];"
      ],
      "execution_count": 9,
      "outputs": []
    },
    {
      "cell_type": "code",
      "metadata": {
        "id": "k7zWFK_j27Je",
        "colab_type": "code",
        "colab": {}
      },
      "source": [
        "%%capture\n",
        "%%octave\n",
        "\n",
        "%% Compute radiomic features\n",
        "radiomicsFeatS = calcGlobalRadiomicsFeatures...\n",
        "(scanNum, structNum, paramS, planC);\n",
        "\n",
        "%% Compute DVH-based features\n",
        "[doseV,volV] = getDVH(structNum,doseNum,planC);\n",
        "[doseBinsV,volHistV] = doseHist(doseV,volV,binWidth);\n",
        "dvhFeatS.meanDose = calc_meanDose(doseBinsV, volHistV);\n",
        "dvhFeatS.d10 = calc_Dx(doseBinsV, volHistV, 10, 1);\n",
        "dvhFeatS.v30 = calc_Vx(doseBinsV, volHistV, 30, 0);\n",
        "dvhFeatS.MOH55 = calc_MOHx(doseBinsV, volHistV, 55);"
      ],
      "execution_count": 10,
      "outputs": []
    },
    {
      "cell_type": "markdown",
      "metadata": {
        "id": "2H_9ryjxZ2QU",
        "colab_type": "text"
      },
      "source": [
        "### Make computed features available in Python \n"
      ]
    },
    {
      "cell_type": "code",
      "metadata": {
        "id": "jqL8hpdfzyQT",
        "colab_type": "code",
        "colab": {
          "base_uri": "https://localhost:8080/",
          "height": 71
        },
        "outputId": "43d181e1-7349-42f4-90a4-7db579c2697e"
      },
      "source": [
        "from oct2py import octave\n",
        "\n",
        "%octave_pull radiomicsFeatS dvhFeatS\n",
        "print(radiomicsFeatS['shapeS'])\n",
        "print(dvhFeatS)"
      ],
      "execution_count": 11,
      "outputs": [
        {
          "output_type": "stream",
          "text": [
            "{'majorAxis': 12.732470146787053, 'minorAxis': 8.91029738209561, 'leastAxis': 4.082517261054258, 'flatness': 0.32063827474077783, 'elongation': 0.6998090142268317, 'max3dDiameter': 10.802777290344238, 'max2dDiameterAxialPlane': 9.492101669311523, 'max2dDiameterSagittalPlane': 6.020797252655029, 'max2dDiameterCoronalPlane': 10.581587791442871, 'surfArea': 78.75934058605056, 'volume': 3.4029999999999943, 'filledVolume': 3.4029999999999943, 'Compactness1': 0.0027468434324124952, 'Compactness2': 0.0026808348319102646, 'spherDisprop': 7.198521632892385, 'sphericity': 0.13891741262965365, 'surfToVolRatio': 23.144090680590857}\n",
            "{'meanDose': 46.96107504826258, 'd10': 66.865, 'v30': 32.515999999999984, 'MOH55': 55.1462897603486}\n"
          ],
          "name": "stdout"
        }
      ]
    }
  ]
}