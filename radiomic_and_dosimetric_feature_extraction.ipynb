{
  "nbformat": 4,
  "nbformat_minor": 0,
  "metadata": {
    "colab": {
       "name": "demo_radiomic_and_dosimetric_feature_extraction.ipynb",
       "provenance": [],
       "collapsed_sections": [],
       "toc_visible": true,
       "include_colab_link": true
    },
    "kernelspec": {
      "name": "python3",
      "display_name": "Python 3"
    },
    "title": "Demo radiomic dosimetric feature calc.",
    "authors": [
      {
        "Name": "Aditi Iyer(iyera@mskcc.org)"
      }
    ]
  },
  "cells": [
    {
      "cell_type": "markdown",
      "metadata": {
        "id": "view-in-github"
      },
      "source": [
        "<a href=\"https://colab.research.google.com/github/cerr/CERR/blob/octave_dev/Jupyter_Notebooks/demo_radiomic_and_dosimetric_feature_extraction.ipynb\" target=\"_parent\"><img src=\"https://colab.research.google.com/assets/colab-badge.svg\" alt=\"Open In Colab\"/></a>"
      ]
    },
    {
      "cell_type": "markdown",
      "source": [
        "## Introduction\n",
        "This notebook demonstrates the extraction radiomic & dosimetric features using CERR.\n",
        "\n",
        "### Requirements\n",
        "* GNU Octave with `statistics`, `io` & `image` packages\n",
        "* CERR\n",
        "Note: Installing these tools may incur a one-time extra runtime overhead.\n",
        "\n",
        "### I/O\n",
        "Images and plan doses stored in CERR's native planC format (imported from DICOM) are used for feature calculation. Results are output to Octave structures/Python dictionaries.\n",
        "\n",
        "---"
      ],
      "metadata": {
        "id": "ymohKEAtx6pl"
      }
    },
    {
      "cell_type": "markdown",
      "metadata": {
        "id": "5N-G0tUkkNrN"
      },
      "source": [
        "## Installing dependencies\n",
        "Uncomment (`Ctrl+/`) the following to install (1) Octave with required packages (2) Oct2py and (3) CERR."
      ]
    },
    {
      "cell_type": "markdown",
      "metadata": {
        "id": "P6t1PtYSklan"
      },
      "source": [
        "### Install latest Octave from compile"
      ]
    },
    {
      "cell_type": "code",
      "metadata": {
        "id": "58KaG3O-iOYg"
      },
      "source": [
        "# %%capture\n",
        "# ! apt-get update\n",
        "# ! apt-get install libgraphicsmagick++1-dev libsuitesparse-dev libqrupdate1 \\\n",
        "# libfftw3-3 gnuplot zsh openjdk-8-jdk"
      ],
      "execution_count": 1,
      "outputs": []
    },
    {
      "cell_type": "code",
      "metadata": {
        "id": "7atRtYRCP0Bd"
      },
      "source": [
        "# %%capture\n",
        "# # download compiled octave package (latest)\n",
        "# def getOctave(root_path):\n",
        "#   os.chdir(root_path)\n",
        "#   with urllib.request.urlopen(\"https://api.github.com/repos/cerr/octave-colab/releases/latest\") as url:\n",
        "#       data = json.loads(url.read().decode())\n",
        "#   fname = data['assets'][0]['name']\n",
        "#   requrl = data['assets'][0]['browser_download_url']\n",
        "#   urllib.request.urlretrieve(requrl, fname)\n",
        "#   # unzip, identify octave folder name\n",
        "#   !tar xf {fname}\n",
        "#   top_folder = !tar tf {fname} | head -1\n",
        "#   octave_folder = top_folder[0][:-1]\n",
        "#   octave_path = os.path.join(root_path,octave_folder)\n",
        "#   return octave_path"
      ],
      "execution_count": 2,
      "outputs": []
    },
    {
      "cell_type": "code",
      "source": [
        "# %%capture\n",
        "# import os, urllib.request, json\n",
        "# octave_path = getOctave('/content')\n",
        "os.environ['OCTAVE_EXECUTABLE'] = octave_path + '/bin/octave-cli'  #Replace with OCTAVE_EXECUTABLE path\n",
        "os.environ['PATH'] = octave_path + '/bin:' + os.environ['PATH']     #Replace with Octave path"
      ],
      "metadata": {
        "id": "nAT-_Jsx5O5k"
      },
      "execution_count": 3,
      "outputs": []
    },
    {
      "cell_type": "markdown",
      "metadata": {
        "id": "MRDiMqncx2qE"
      },
      "source": [
        "###  Install Octatve-Python bridge"
      ]
    },
    {
      "cell_type": "code",
      "metadata": {
        "id": "6gxGsNOmYm97"
      },
      "source": [
        "# %%capture\n",
        "# ! pip3 install octave_kernel\n",
        "# ! pip3 install oct2py==5.3.0"
      ],
      "execution_count": 4,
      "outputs": []
    },
    {
      "cell_type": "markdown",
      "metadata": {
        "id": "bo-i2uKqk_rB"
      },
      "source": [
        "\n",
        "### Download CERR\n"
      ]
    },
    {
      "cell_type": "code",
      "metadata": {
        "id": "Al7QbpSThN9x"
      },
      "source": [
        "# %%capture\n",
        "# import os   \n",
        "# !git clone --single-branch --branch octave_dev https://www.github.com/cerr/CERR.git\n",
        "# currDir = os.getcwd()\n",
        "# os.chdir(\"/content/CERR\")\n",
        "# !git checkout c2b65179da40622bc7b095f679edd17f5ebc681e\n",
        "# os.chdir(currDir)"
      ],
      "execution_count": 5,
      "outputs": []
    },
    {
      "cell_type": "markdown",
      "source": [
        "---"
      ],
      "metadata": {
        "id": "DQ8Jf-cu6GX1"
      }
    },
    {
      "cell_type": "markdown",
      "source": [
        "## Feature calculation"
      ],
      "metadata": {
        "id": "YMcyefuQ5__G"
      }
    },
    {
      "cell_type": "markdown",
      "metadata": {
        "id": "B-nYrSGNlEzs"
      },
      "source": [
        "### Add Octave packages and CERR to path"
      ]
    },
    {
      "cell_type": "code",
      "source": [
        "%load_ext oct2py.ipython\n",
        "from oct2py import octave"
      ],
      "metadata": {
        "id": "kZs6XL376JmM"
      },
      "execution_count": 6,
      "outputs": []
    },
    {
      "cell_type": "code",
      "metadata": {
        "id": "453d72YCJ3CM",
        "colab": {
          "base_uri": "https://localhost:8080/"
        },
        "outputId": "e16dc76a-5311-43d9-f8b8-07cfb56a0463"
      },
      "source": [
        "%%capture\n",
        "%%octave\n",
        "pkg load image\n",
        "pkg load io\n",
        "pkg load statistics"
      ],
      "execution_count": 7,
      "outputs": []
    },
    {
      "cell_type": "markdown",
      "source": [
        "### Add CERR to Octave path"
      ],
      "metadata": {
        "id": "df5FfrcR6QLs"
      }
    },
    {
      "cell_type": "code",
      "source": [
        "%%octave\n",
        "%%capture\n",
        "#Add CERR to path\n",
        "cerrPath = '/content/CERR'\n",
        "currDir = pwd;\n",
        "cd(cerrPath)\n",
        "addToPath2(cerrPath)\n",
        "cd(currDir)"
      ],
      "metadata": {
        "colab": {
          "base_uri": "https://localhost:8080/",
          "height": 173
        },
        "id": "RFa_EPz16PNV",
        "outputId": "ee1034ad-c089-494f-e73c-13401be43b31"
      },
      "execution_count": 8,
      "outputs": []
    },
    {
      "cell_type": "markdown",
      "metadata": {
        "id": "C02qX1CzPITI"
      },
      "source": [
        "### Read radiomics calculation settings"
      ]
    },
    {
      "cell_type": "code",
      "metadata": {
        "id": "XeQGonF2iWG3",
        "colab": {
          "base_uri": "https://localhost:8080/"
        },
        "outputId": "931ed870-dc74-47fa-e799-449d91f00699"
      },
      "source": [
        "%%capture\n",
        "%%octave\n",
        "sampleData = '/content/CERR/Unit_Testing/data_for_cerr_tests/CERR_plans/head_neck_ex1_20may03.mat.bz2';\n",
        "planC = loadPlanC(sampleData, tempdir);\n",
        "planC = updatePlanFields(planC);\n",
        "planC = quality_assure_planC(sampleData, planC);\n",
        "\n",
        "sampleParam = '/content/CERR/Jupyter_Notebooks/demoParams.json';\n",
        "paramS = getRadiomicsParamTemplate(sampleParam);"
      ],
      "execution_count": 9,
      "outputs": []
    },
    {
      "cell_type": "markdown",
      "metadata": {
        "id": "E_iqpNT1PQXg"
      },
      "source": [
        "### Compute features"
      ]
    },
    {
      "cell_type": "code",
      "metadata": {
        "id": "Qgh5cXA0jGWJ",
        "colab": {
          "base_uri": "https://localhost:8080/",
          "height": 121
        },
        "outputId": "590fb6bc-6a8e-4076-9888-1539ca7eefa5"
      },
      "source": [
        "%%octave\n",
        "indexS = planC{end};\n",
        "strC = {planC{indexS.structures}.structureName};\n",
        "strName = paramS.structuresC{1};\n",
        "structNum = getMatchingIndex(strName,strC,'exact');\n",
        "scanNum = getStructureAssociatedScan(structNum,planC);\n",
        "doseNum = 1;\n",
        "binWidth = 0.01;\n",
        "\n",
        "structFieldName = ['struct_',repSpaceHyp(strName)];"
      ],
      "execution_count": 10,
      "outputs": []
    },
    {
      "cell_type": "code",
      "metadata": {
        "id": "k7zWFK_j27Je",
        "colab": {
          "base_uri": "https://localhost:8080/"
        },
        "outputId": "aba4ccce-c3ba-4df7-f919-36a22c4aee03"
      },
      "source": [
        "%%capture\n",
        "%%octave\n",
        "\n",
        "# 1. Calc. radiomic features\n",
        "radiomicsFeatS = calcGlobalRadiomicsFeatures...\n",
        "(scanNum, structNum, paramS, planC);\n",
        "\n",
        "# 2. Compute DVH-based metrics\n",
        "[doseV,volV] = getDVH(structNum,doseNum,planC);\n",
        "[doseBinsV,volHistV] = doseHist(doseV,volV,binWidth);\n",
        "\n",
        "dvhFeatS.meanDose = calc_meanDose(doseBinsV, volHistV); # Mean dose\n",
        "dvhFeatS.d10 = calc_Dx(doseBinsV, volHistV, 10, 1);     # D10cc\n",
        "dvhFeatS.v30 = calc_Vx(doseBinsV, volHistV, 30, 0);     # V30Gy\n",
        "dvhFeatS.MOH55 = calc_MOHx(doseBinsV, volHistV, 55);    # MOH55%"
      ],
      "execution_count": 11,
      "outputs": []
    },
    {
      "cell_type": "markdown",
      "metadata": {
        "id": "2H_9ryjxZ2QU"
      },
      "source": [
        "### Access computed features in Python \n"
      ]
    },
    {
      "cell_type": "code",
      "metadata": {
        "id": "jqL8hpdfzyQT",
        "colab": {
          "base_uri": "https://localhost:8080/",
          "height": 175
        },
        "outputId": "00576cc6-9de8-4db2-ceec-38674e9e8284"
      },
      "source": [
        "from oct2py import octave\n",
        "\n",
        "%octave_pull radiomicsFeatS dvhFeatS\n",
        "\n",
        "# radiomicsFeatS and dvhFeatS are available as Python dictionaries:\n",
        "print(radiomicsFeatS['shapeS'])\n",
        "print(dvhFeatS)"
      ],
      "execution_count": 12,
      "outputs": [
        {
          "output_type": "stream",
          "name": "stdout",
          "text": [
            "{'majorAxis': 12.935351093633601, 'minorAxis': 8.351486075529538, 'leastAxis': 4.277901480411592, 'flatness': 0.33071398290202186, 'elongation': 0.6456327327396543, 'max3dDiameter': 10.898238182067871, 'max2dDiameterAxialPlane': 9.443092346191406, 'max2dDiameterSagittalPlane': 6.094661712646484, 'max2dDiameterCoronalPlane': 10.702075004577637, 'surfArea': 87.76143692711165, 'volume': 3.507840000000014, 'filledVolume': 3.507840000000014, 'Compactness1': 0.0024071837980390474, 'Compactness2': 0.002058831239949457, 'spherDisprop': 7.8606733612810356, 'sphericity': 0.12721556462651845, 'surfToVolRatio': 25.018654478856302}\n",
            "{'meanDose': 46.96107504826258, 'd10': 66.865, 'v30': 32.515999999999984, 'MOH55': 55.1462897603486}\n"
          ]
       }
    ]
  }
 ]
}
