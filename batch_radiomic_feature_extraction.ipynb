{
 "nbformat": 4,
 "nbformat_minor": 0,
 "metadata": {
    "colab": {
       "name": "batch_radiomic_feature_extraction.ipynb",
       "provenance": [],
       "collapsed_sections": [],
       "toc_visible": true,
       "include_colab_link": true
    },
    "kernelspec": {
          "name": "python3",
          "display_name": "Python 3"
        },
   "title": "Demo radiomic dosimetric feature calc.",
   "authors": [ {"Name": "Aditi Iyer(iyera@mskcc.org)" }]
   },
 "cells": [
 {
       "cell_type": "markdown",
       "metadata": {
         "id": "view-in-github"
       },
       "source": [
         "<a href=\"https://colab.research.google.com/github/stratis-forge/radiomics-workflows/blob/main/batch_radiomic_feature_extraction.ipynb\" target=\"_parent\"><img src=\"https://colab.research.google.com/assets/colab-badge.svg\" alt=\"Open In Colab\"/></a>"
       ]
    },
  {
   "cell_type": "markdown",
   "id": "c5e0f7ff",
   "metadata": {},
   "source": [
    "## Introduction\n",
    "\n",
    "This notebook demonstrates radiomic feature extraction across a patient cohort using CERR.\n",
    "\n",
    "### Requirements\n",
    "\n",
    "* GNU Octave with statistics, io & image packages\n",
    "* CERR\n",
    "\n",
    "**Note**: Installing these tools may incur a one-time extra runtime overhead.\n",
    "\n",
    "### I/O\n",
    "Images and structures stored in CERR's native `planC` format (imported from DICOM) are used for feature calculation. Results are output to a CSV file. \n",
    "\n",
    "See [notebook](https://github.com/stratis-forge/cerr-data-handling/blob/main/convert_dicom_to_planC.ipynb) on batch-importing DICOM data to `planC`.\n",
    "\n",
    "----"
   ]
  },
  {
   "cell_type": "markdown",
   "id": "1095a436",
   "metadata": {},
   "source": [
    "## Installing dependencies\n",
    "Uncomment (Ctrl+/) the following to install (1) Octave with required packages (2) Oct2py and (3) CERR."
   ]
  },
  {
   "cell_type": "markdown",
   "id": "e7a4525e",
   "metadata": {},
   "source": [
    "### Install latest Octave from compile"
   ]
  },
  {
   "cell_type": "code",
   "execution_count": null,
   "id": "aacb93fe",
   "metadata": {},
   "outputs": [],
   "source": [
    "# %%capture\n",
    "# ! apt-get update\n",
    "# ! apt-get install libgraphicsmagick++1-dev libsuitesparse-dev libqrupdate1 \\\n",
    "# libfftw3-3 gnuplot zsh openjdk-8-jdk"
   ]
  },
  {
   "cell_type": "code",
   "execution_count": null,
   "id": "c17666ea",
   "metadata": {},
   "outputs": [],
   "source": [
    "# %%capture\n",
    "# # download compiled octave package (latest)\n",
    "# def getOctave(root_path):\n",
    "#   os.chdir(root_path)\n",
    "#   with urllib.request.urlopen(\"https://api.github.com/repos/cerr/octave-colab/releases/latest\") as url:\n",
    "#       data = json.loads(url.read().decode())\n",
    "#   fname = data['assets'][0]['name']\n",
    "#   requrl = data['assets'][0]['browser_download_url']\n",
    "#   urllib.request.urlretrieve(requrl, fname)\n",
    "#   # unzip, identify octave folder name\n",
    "#   !tar xf {fname}\n",
    "#   top_folder = !tar tf {fname} | head -1\n",
    "#   octave_folder = top_folder[0][:-1]\n",
    "#   octave_path = os.path.join(root_path,octave_folder)\n",
    "#   return octave_path"
   ]
  },
  {
   "cell_type": "code",
   "execution_count": null,
   "id": "d99cdcf2",
   "metadata": {},
   "outputs": [],
   "source": [
    "# %%capture\n",
    "# import os, urllib.request, json\n",
    "# octave_path = getOctave('/content')\n",
    "os.environ['OCTAVE_EXECUTABLE'] = octave_path + '/bin/octave-cli'  #Replace with OCTAVE_EXECUTABLE path\n",
    "os.environ['PATH'] = octave_path + '/bin:' + os.environ['PATH']     #Replace with Octave path"
   ]
  },
  {
   "cell_type": "markdown",
   "id": "2f0b21ff",
   "metadata": {},
   "source": [
    "### Install Octatve-Python bridge"
   ]
  },
  {
   "cell_type": "code",
   "execution_count": null,
   "id": "39aad9a8",
   "metadata": {},
   "outputs": [],
   "source": [
    "# %%capture\n",
    "# ! pip3 install octave_kernel\n",
    "# ! pip3 install oct2py==5.3.0"
   ]
  },
  {
   "cell_type": "markdown",
   "id": "3d4770b9",
   "metadata": {},
   "source": [
    "### Download CERR"
   ]
  },
  {
   "cell_type": "code",
   "execution_count": null,
   "id": "dabaea0c",
   "metadata": {},
   "outputs": [],
   "source": [
    "#%%capture\n",
    "import os   \n",
    "currDir = os.getcwd()\n",
    "os.chdir(\"/content/CERR\")\n",
    "!git checkout 881a0f96ca1757de86ea2383618aa2f24833dc6a\n",
    "os.chdir(currDir)"
   ]
  },
  {
   "cell_type": "markdown",
   "id": "964b7f8b",
   "metadata": {},
   "source": [
    "## Add Octave packages and CERR to path"
   ]
  },
  {
   "cell_type": "code",
   "execution_count": null,
   "id": "5f0388c8",
   "metadata": {},
   "outputs": [],
   "source": [
    "%%capture\n",
    "%load_ext oct2py.ipython\n",
    "from oct2py import octave"
   ]
  },
  {
   "cell_type": "code",
   "execution_count": null,
   "id": "f5a33603",
   "metadata": {},
   "outputs": [],
   "source": [
    "%%capture\n",
    "%%octave\n",
    "pkg load image\n",
    "pkg load io\n",
    "pkg load statistics"
   ]
  },
  {
   "cell_type": "markdown",
   "id": "9f8bafe9",
   "metadata": {},
   "source": [
    "## Batch feature calculation"
   ]
  },
  {
   "cell_type": "code",
   "execution_count": null,
   "id": "7ca7d16e",
   "metadata": {},
   "outputs": [],
   "source": [
    "%%capture\n",
    "%%octave\n",
    "#Add CERR to path\n",
    "cerrPath = '/content/CERR'\n",
    "currDir = pwd;\n",
    "cd(cerrPath)\n",
    "addToPath2(cerrPath)\n",
    "cd(currDir)"
   ]
  },
  {
   "cell_type": "code",
   "execution_count": null,
   "id": "a19965a5",
   "metadata": {},
   "outputs": [],
   "source": [
    "%%capture\n",
    "%%octave\n",
    "destDir = 'Path/to/sample_data'; #Replace with path to CERR files\n",
    "paramFileName = fullfile(getCERRPath,'PlanMetrics/heterogenity_metrics/paramsForCtRadiomics.json');\n",
    "featureS = batchExtractRadiomics(destDir,paramFileName)"
   ]
  },
  {
   "cell_type": "code",
   "execution_count": null,
   "id": "7e661ed9",
   "metadata": {},
   "outputs": [],
   "source": [
    "%%capture\n",
    "%%octave\n",
    "outputFile = '/Path/to/out_file.csv'; #Replace with path to output CSV file\n",
    "writeFeaturesToCSV(featureS,outputFile);"
   ]
  }
 ],
 "metadata": {
  "kernelspec": {
   "display_name": "Python 3 (ipykernel)",
   "language": "python",
   "name": "python3"
  },
  "language_info": {
   "codemirror_mode": {
    "name": "ipython",
    "version": 3
   },
   "file_extension": ".py",
   "mimetype": "text/x-python",
   "name": "python",
   "nbconvert_exporter": "python",
   "pygments_lexer": "ipython3",
   "version": "3.9.16"
  }
 },
 "nbformat": 4,
 "nbformat_minor": 5
}
